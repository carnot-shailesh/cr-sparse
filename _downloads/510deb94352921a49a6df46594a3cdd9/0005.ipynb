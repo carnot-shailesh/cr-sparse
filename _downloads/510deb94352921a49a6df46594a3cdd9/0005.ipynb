{
  "cells": [
    {
      "cell_type": "code",
      "execution_count": null,
      "metadata": {
        "collapsed": false
      },
      "outputs": [],
      "source": [
        "%matplotlib inline"
      ]
    },
    {
      "cell_type": "markdown",
      "metadata": {},
      "source": [
        "\n\n# Cosine+Spikes, Dirac-Cosine Basis, Gaussian Measurements\n    :depth: 2\n    :local:\n\nIn this example we have\n\n#. A signal $\\by$ consisting of a mixture of\n   3 cosine waves and 60 random spikes of total length 1024.\n#. A Dirac-Cosine two ortho basis $\\Psi$ of shape 1024x2048.\n#. The sparse representation $\\bx$ of the signal $\\by$\n   in the basis $\\Psi$ consisting of exactly 63 nonzero\n   entries (corresponding to the spikes and the amplitudes of the cosine waves).\n#. A Gaussian sensing matrix $\\Phi$ of shape  300x1024 making\n   300 random measurements in a vector $\\bb$.\n#. We are given $\\bb$ and $\\bA = \\Phi \\Psi$ and\n   have to reconstruct $\\bx$ using it.\n#. Then we can use $\\Psi$ to compute $\\by = \\Psi \\bx$.\n\n\n\\begin{align}\\bb = \\bA \\bx = \\Phi \\Psi \\bx = \\Phi \\by.\\end{align}\n\nSee also:\n\n* `api:problems`\n* `api:lop`\n"
      ]
    },
    {
      "cell_type": "code",
      "execution_count": null,
      "metadata": {
        "collapsed": false
      },
      "outputs": [],
      "source": [
        "# Configure JAX to work with 64-bit floating point precision. \nfrom jax.config import config\nconfig.update(\"jax_enable_x64\", True)\n\nimport jax.numpy as jnp\nimport cr.nimble as crn\nimport cr.sparse.plots as crplot"
      ]
    },
    {
      "cell_type": "markdown",
      "metadata": {},
      "source": [
        "## Setup\nWe shall construct our test signal and dictionary\nusing our test problems module.\n\n"
      ]
    },
    {
      "cell_type": "code",
      "execution_count": null,
      "metadata": {
        "collapsed": false
      },
      "outputs": [],
      "source": [
        "from cr.sparse import problems\nprob = problems.generate('cosine-spikes:dirac-dct:gaussian', c=3, k=60)\nfig, ax = problems.plot(prob)"
      ]
    },
    {
      "cell_type": "markdown",
      "metadata": {},
      "source": [
        "Let us access the relevant parts of our test problem\n\n"
      ]
    },
    {
      "cell_type": "code",
      "execution_count": null,
      "metadata": {
        "collapsed": false
      },
      "outputs": [],
      "source": [
        "# The combined linear operator (sensing matrix + dictionary)\nA = prob.A\n# The sparse representation of the signal in the dictionary\nx0 = prob.x\n# The Cosine+Spikes signal\ny0 = prob.y\n# The measurements\nb0 = prob.b"
      ]
    },
    {
      "cell_type": "markdown",
      "metadata": {},
      "source": [
        "Check how many coefficients in the sparse representation\nare sufficient to capture 99.9% of the energy of the signal\n\n"
      ]
    },
    {
      "cell_type": "code",
      "execution_count": null,
      "metadata": {
        "collapsed": false
      },
      "outputs": [],
      "source": [
        "print(crn.num_largest_coeffs_for_energy_percent(x0, 99.9))"
      ]
    },
    {
      "cell_type": "markdown",
      "metadata": {},
      "source": [
        "This number gives us an idea about the required sparsity\nto be configured for greedy pursuit algorithms.\nAlthough the exact sparsity of this representation is 63\nbut several of the spikes are too small and could be ignored\nfor a reasonably good approximation.\n\n"
      ]
    },
    {
      "cell_type": "markdown",
      "metadata": {},
      "source": [
        "## Sparse Recovery using Subspace Pursuit\nWe shall use subspace pursuit to reconstruct the signal.\n\n"
      ]
    },
    {
      "cell_type": "code",
      "execution_count": null,
      "metadata": {
        "collapsed": false
      },
      "outputs": [],
      "source": [
        "import cr.sparse.pursuit.sp as sp\n\n# We will first try to estimate a 50-sparse representation\nsol = sp.solve(A, b0, 50)"
      ]
    },
    {
      "cell_type": "markdown",
      "metadata": {},
      "source": [
        "This utility function helps us quickly analyze the quality of reconstruction\n\n"
      ]
    },
    {
      "cell_type": "code",
      "execution_count": null,
      "metadata": {
        "collapsed": false
      },
      "outputs": [],
      "source": [
        "problems.analyze_solution(prob, sol)"
      ]
    },
    {
      "cell_type": "markdown",
      "metadata": {},
      "source": [
        "We will now try to estimate a 75-sparse representation\n\n"
      ]
    },
    {
      "cell_type": "code",
      "execution_count": null,
      "metadata": {
        "collapsed": false
      },
      "outputs": [],
      "source": [
        "sol = sp.solve(A, b0, 75)\nproblems.analyze_solution(prob, sol)"
      ]
    },
    {
      "cell_type": "markdown",
      "metadata": {},
      "source": [
        "Let us check if we correctly decoded all the nonzero entries\nin the sparse representation x\n\n"
      ]
    },
    {
      "cell_type": "code",
      "execution_count": null,
      "metadata": {
        "collapsed": false
      },
      "outputs": [],
      "source": [
        "problems.analyze_solution(prob, sol, perc=100)"
      ]
    },
    {
      "cell_type": "markdown",
      "metadata": {},
      "source": [
        "The estimated sparse representation\n\n"
      ]
    },
    {
      "cell_type": "code",
      "execution_count": null,
      "metadata": {
        "collapsed": false
      },
      "outputs": [],
      "source": [
        "x = sol.x"
      ]
    },
    {
      "cell_type": "markdown",
      "metadata": {},
      "source": [
        "Let us reconstruct the signal from this sparse representation\n\n"
      ]
    },
    {
      "cell_type": "code",
      "execution_count": null,
      "metadata": {
        "collapsed": false
      },
      "outputs": [],
      "source": [
        "y = prob.reconstruct(x)"
      ]
    },
    {
      "cell_type": "markdown",
      "metadata": {},
      "source": [
        "The estimated measurements\n\n"
      ]
    },
    {
      "cell_type": "code",
      "execution_count": null,
      "metadata": {
        "collapsed": false
      },
      "outputs": [],
      "source": [
        "b = A.times(x)"
      ]
    },
    {
      "cell_type": "markdown",
      "metadata": {},
      "source": [
        "Let us visualize the original and reconstructed representation\n\n"
      ]
    },
    {
      "cell_type": "code",
      "execution_count": null,
      "metadata": {
        "collapsed": false
      },
      "outputs": [],
      "source": [
        "def plot_representations(x0, x):\n    ax = crplot.h_plots(2, height=2)\n    ax[0].stem(x0, markerfmt='.')\n    ax[0].set_title('Original representation')\n    ax[1].stem(x, markerfmt='.')\n    ax[1].set_title('Reconstructed representation')\nplot_representations(x0, x)"
      ]
    },
    {
      "cell_type": "markdown",
      "metadata": {},
      "source": [
        "Let us visualize the original and reconstructed signal\n\n"
      ]
    },
    {
      "cell_type": "code",
      "execution_count": null,
      "metadata": {
        "collapsed": false
      },
      "outputs": [],
      "source": [
        "def plot_signals(y0, y):\n    ax = crplot.h_plots(2, height=2)\n    ax[0].plot(y0)\n    ax[0].set_title('Original signal')\n    ax[1].plot(y)\n    ax[1].set_title('Reconstructed signal')\nplot_signals(y0, y)"
      ]
    },
    {
      "cell_type": "markdown",
      "metadata": {},
      "source": [
        "Let us visualize the original and reconstructed measurements\n\n"
      ]
    },
    {
      "cell_type": "code",
      "execution_count": null,
      "metadata": {
        "collapsed": false
      },
      "outputs": [],
      "source": [
        "def plot_measurments(b0, b):\n    ax = crplot.h_plots(2, height=2)\n    ax[0].plot(b0)\n    ax[0].set_title('Original measurements')\n    ax[1].plot(b)\n    ax[1].set_title('Reconstructed measurements')\nplot_measurments(b0, b)"
      ]
    },
    {
      "cell_type": "markdown",
      "metadata": {},
      "source": [
        "## Sparse Recovery using Compressive Sampling Matching Pursuit\nWe shall now use compressive sampling matching pursuit to reconstruct the signal.\n\n"
      ]
    },
    {
      "cell_type": "code",
      "execution_count": null,
      "metadata": {
        "collapsed": false
      },
      "outputs": [],
      "source": [
        "import cr.sparse.pursuit.cosamp as cosamp\n# We will try to estimate a 75-sparse representation\nsol = cosamp.solve(A, b0, 75)\nproblems.analyze_solution(prob, sol, perc=100)"
      ]
    },
    {
      "cell_type": "markdown",
      "metadata": {},
      "source": [
        "The estimated sparse representation\n\n"
      ]
    },
    {
      "cell_type": "code",
      "execution_count": null,
      "metadata": {
        "collapsed": false
      },
      "outputs": [],
      "source": [
        "x = sol.x"
      ]
    },
    {
      "cell_type": "markdown",
      "metadata": {},
      "source": [
        "Let us reconstruct the signal from this sparse representation\n\n"
      ]
    },
    {
      "cell_type": "code",
      "execution_count": null,
      "metadata": {
        "collapsed": false
      },
      "outputs": [],
      "source": [
        "y = prob.reconstruct(x)"
      ]
    },
    {
      "cell_type": "markdown",
      "metadata": {},
      "source": [
        "The estimated measurements\n\n"
      ]
    },
    {
      "cell_type": "code",
      "execution_count": null,
      "metadata": {
        "collapsed": false
      },
      "outputs": [],
      "source": [
        "b = A.times(x)"
      ]
    },
    {
      "cell_type": "markdown",
      "metadata": {},
      "source": [
        "Let us visualize the original and reconstructed representation\n\n"
      ]
    },
    {
      "cell_type": "code",
      "execution_count": null,
      "metadata": {
        "collapsed": false
      },
      "outputs": [],
      "source": [
        "plot_representations(x0, x)"
      ]
    },
    {
      "cell_type": "markdown",
      "metadata": {},
      "source": [
        "Let us visualize the original and reconstructed signal\n\n"
      ]
    },
    {
      "cell_type": "code",
      "execution_count": null,
      "metadata": {
        "collapsed": false
      },
      "outputs": [],
      "source": [
        "plot_signals(y0, y)"
      ]
    },
    {
      "cell_type": "markdown",
      "metadata": {},
      "source": [
        "Let us visualize the original and reconstructed measurements\n\n"
      ]
    },
    {
      "cell_type": "code",
      "execution_count": null,
      "metadata": {
        "collapsed": false
      },
      "outputs": [],
      "source": [
        "plot_measurments(b0, b)"
      ]
    },
    {
      "cell_type": "markdown",
      "metadata": {},
      "source": [
        "## Sparse Recovery using SPGL1\n\n"
      ]
    },
    {
      "cell_type": "code",
      "execution_count": null,
      "metadata": {
        "collapsed": false
      },
      "outputs": [],
      "source": [
        "import cr.sparse.cvx.spgl1 as crspgl1\noptions = crspgl1.SPGL1Options(max_iters=1000)\nsol = crspgl1.solve_bp_jit(A, b0, options=options)\nproblems.analyze_solution(prob, sol)"
      ]
    },
    {
      "cell_type": "markdown",
      "metadata": {},
      "source": [
        "The estimated sparse representation\n\n"
      ]
    },
    {
      "cell_type": "code",
      "execution_count": null,
      "metadata": {
        "collapsed": false
      },
      "outputs": [],
      "source": [
        "x = sol.x"
      ]
    },
    {
      "cell_type": "markdown",
      "metadata": {},
      "source": [
        "Let us reconstruct the signal from this sparse representation\n\n"
      ]
    },
    {
      "cell_type": "code",
      "execution_count": null,
      "metadata": {
        "collapsed": false
      },
      "outputs": [],
      "source": [
        "y = prob.reconstruct(x)"
      ]
    },
    {
      "cell_type": "markdown",
      "metadata": {},
      "source": [
        "The estimated measurements\n\n"
      ]
    },
    {
      "cell_type": "code",
      "execution_count": null,
      "metadata": {
        "collapsed": false
      },
      "outputs": [],
      "source": [
        "b = A.times(x)"
      ]
    },
    {
      "cell_type": "markdown",
      "metadata": {},
      "source": [
        "Let us visualize the original and reconstructed representation\n\n"
      ]
    },
    {
      "cell_type": "code",
      "execution_count": null,
      "metadata": {
        "collapsed": false
      },
      "outputs": [],
      "source": [
        "plot_representations(x0, x)"
      ]
    },
    {
      "cell_type": "markdown",
      "metadata": {},
      "source": [
        "Let us visualize the original and reconstructed signal\n\n"
      ]
    },
    {
      "cell_type": "code",
      "execution_count": null,
      "metadata": {
        "collapsed": false
      },
      "outputs": [],
      "source": [
        "plot_signals(y0, y)"
      ]
    },
    {
      "cell_type": "markdown",
      "metadata": {},
      "source": [
        "Let us visualize the original and reconstructed measurements\n\n"
      ]
    },
    {
      "cell_type": "code",
      "execution_count": null,
      "metadata": {
        "collapsed": false
      },
      "outputs": [],
      "source": [
        "plot_measurments(b0, b)"
      ]
    },
    {
      "cell_type": "markdown",
      "metadata": {},
      "source": [
        "## Comments\n\n* With K=50, SP recovery is slightly inaccurate.\n  It also takes more (20) iterations to converge.\n* With K=75, SP is pretty good. It only missed one of the\n  63 nonzero entries. Also, SP converges in just 10 iterations.\n* With K=75, CoSaMP is also good but slightly poor. It also\n  missed just one nonzero entry. But it seems like it missed\n  a more significant entry compared to SP. Also, CoSaMP took\n  57 iterations to converge.\n* SPGL1 converges in 788 iterations to converge.\n  Its model space and signal space SNR are not good.\n  However, its measurement space SNR is pretty high.\n\n"
      ]
    }
  ],
  "metadata": {
    "kernelspec": {
      "display_name": "Python 3",
      "language": "python",
      "name": "python3"
    },
    "language_info": {
      "codemirror_mode": {
        "name": "ipython",
        "version": 3
      },
      "file_extension": ".py",
      "mimetype": "text/x-python",
      "name": "python",
      "nbconvert_exporter": "python",
      "pygments_lexer": "ipython3",
      "version": "3.8.13"
    }
  },
  "nbformat": 4,
  "nbformat_minor": 0
}