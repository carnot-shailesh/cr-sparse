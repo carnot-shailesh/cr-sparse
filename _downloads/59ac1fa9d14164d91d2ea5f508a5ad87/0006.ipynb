{
  "cells": [
    {
      "cell_type": "markdown",
      "metadata": {},
      "source": [
        "\n\n# Piecewise Cubic, Daubechies Basis, Gaussian Measurements\n    :depth: 2\n    :local:\n\nIn this example we have\n\n#. A signal $\\by$ consisting of piecewise cubic\n   polynomials with 5 pieces of total length of 2048 samples.\n#. A Daubechies-8 wavelet basis $\\Psi$ of shape 2048x2048\n   with 5 levels of decomposition.\n#. The sparse representation $\\bx$ of the signal $\\by$\n   in the basis $\\Psi$ consisting of exactly 63 nonzero\n   entries (corresponding to the spikes and the amplitudes of the cosine waves).\n#. A Gaussian sensing matrix $\\Phi$ of shape  600x2048 making\n   600 random measurements in a vector $\\bb$.\n   The columns of the sensing matrix are unit normalized.\n#. We are given $\\bb$ and $\\bA = \\Phi \\Psi$ and\n   have to reconstruct $\\bx$ using it.\n#. Then we can use $\\Psi$ to compute $\\by = \\Psi \\bx$.\n\n\n\\begin{align}\\bb = \\bA \\bx = \\Phi \\Psi \\bx = \\Phi \\by.\\end{align}\n\nSee also:\n\n* `api:problems`\n* `api:lop`\n"
      ]
    },
    {
      "cell_type": "code",
      "execution_count": null,
      "metadata": {
        "collapsed": false
      },
      "outputs": [],
      "source": [
        "# Configure JAX to work with 64-bit floating point precision. \nfrom jax.config import config\nconfig.update(\"jax_enable_x64\", True)\n\nimport jax.numpy as jnp\nimport cr.nimble as crn\nimport cr.sparse as crs\nimport cr.sparse.plots as crplot"
      ]
    },
    {
      "cell_type": "markdown",
      "metadata": {},
      "source": [
        "## Setup\nWe shall construct our test signal and dictionary\nusing our test problems module.\n\n"
      ]
    },
    {
      "cell_type": "code",
      "execution_count": null,
      "metadata": {
        "collapsed": false
      },
      "outputs": [],
      "source": [
        "from cr.sparse import problems\nprob = problems.generate('piecewise-cubic-poly:daubechies:gaussian')\nfig, ax = problems.plot(prob)"
      ]
    },
    {
      "cell_type": "markdown",
      "metadata": {},
      "source": [
        "Let us access the relevant parts of our test problem\n\n"
      ]
    },
    {
      "cell_type": "code",
      "execution_count": null,
      "metadata": {
        "collapsed": false
      },
      "outputs": [],
      "source": [
        "# The combined linear operator (sensing matrix + dictionary)\nA = prob.A\n# The sparse representation of the signal in the dictionary\nx0 = prob.x\n# The Cosine+Spikes signal\ny0 = prob.y\n# The measurements\nb0 = prob.b"
      ]
    },
    {
      "cell_type": "markdown",
      "metadata": {},
      "source": [
        "Check how many coefficients in the sparse representation\nare sufficient to capture 99.9% of the energy of the signal\n\n"
      ]
    },
    {
      "cell_type": "code",
      "execution_count": null,
      "metadata": {
        "collapsed": false
      },
      "outputs": [],
      "source": [
        "print(crn.num_largest_coeffs_for_energy_percent(x0, 99.9))"
      ]
    },
    {
      "cell_type": "markdown",
      "metadata": {},
      "source": [
        "Check how many coefficients in the sparse representation\nare sufficient to capture 100% of the energy of the signal\n\n"
      ]
    },
    {
      "cell_type": "code",
      "execution_count": null,
      "metadata": {
        "collapsed": false
      },
      "outputs": [],
      "source": [
        "print(crn.num_largest_coeffs_for_energy_percent(x0, 100))"
      ]
    },
    {
      "cell_type": "markdown",
      "metadata": {},
      "source": [
        "This number gives us an idea about the required sparsity\nto be configured for greedy pursuit algorithms.\nAlthough the exact sparsity of this representation is 63\nbut several of the spikes are too small and could be ignored\nfor a reasonably good approximation.\n\n"
      ]
    },
    {
      "cell_type": "markdown",
      "metadata": {},
      "source": [
        "## Sparse Recovery using Subspace Pursuit\nWe shall use subspace pursuit to reconstruct the signal.\n\n"
      ]
    },
    {
      "cell_type": "code",
      "execution_count": null,
      "metadata": {
        "collapsed": false
      },
      "outputs": [],
      "source": [
        "import cr.sparse.pursuit.sp as sp\n\n# We will first try to estimate a 100-sparse representation\nsol = sp.solve(A, b0, 100)"
      ]
    },
    {
      "cell_type": "markdown",
      "metadata": {},
      "source": [
        "This utility function helps us quickly analyze the quality of reconstruction\n\n"
      ]
    },
    {
      "cell_type": "code",
      "execution_count": null,
      "metadata": {
        "collapsed": false
      },
      "outputs": [],
      "source": [
        "problems.analyze_solution(prob, sol, perc=100)"
      ]
    },
    {
      "cell_type": "markdown",
      "metadata": {},
      "source": [
        "We will now try to estimate a 150-sparse representation\n\n"
      ]
    },
    {
      "cell_type": "code",
      "execution_count": null,
      "metadata": {
        "collapsed": false
      },
      "outputs": [],
      "source": [
        "sol = sp.solve(A, b0, 150)"
      ]
    },
    {
      "cell_type": "markdown",
      "metadata": {},
      "source": [
        "Let us check if we correctly decoded all the nonzero entries\nin the sparse representation x\n\n"
      ]
    },
    {
      "cell_type": "code",
      "execution_count": null,
      "metadata": {
        "collapsed": false
      },
      "outputs": [],
      "source": [
        "problems.analyze_solution(prob, sol, perc=100)"
      ]
    },
    {
      "cell_type": "markdown",
      "metadata": {},
      "source": [
        "We will now try to estimate a 200-sparse representation\n\n"
      ]
    },
    {
      "cell_type": "code",
      "execution_count": null,
      "metadata": {
        "collapsed": false
      },
      "outputs": [],
      "source": [
        "sol = sp.solve(A, b0, 200)"
      ]
    },
    {
      "cell_type": "markdown",
      "metadata": {},
      "source": [
        "Let us check if we correctly decoded all the nonzero entries\nin the sparse representation x\n\n"
      ]
    },
    {
      "cell_type": "code",
      "execution_count": null,
      "metadata": {
        "collapsed": false
      },
      "outputs": [],
      "source": [
        "problems.analyze_solution(prob, sol, perc=100)"
      ]
    },
    {
      "cell_type": "markdown",
      "metadata": {},
      "source": [
        "We will now try to estimate a 250-sparse representation\n\n"
      ]
    },
    {
      "cell_type": "code",
      "execution_count": null,
      "metadata": {
        "collapsed": false
      },
      "outputs": [],
      "source": [
        "tracker = crs.ProgressTracker(x0=x0)\nsol = sp.solve(A, b0, 250, tracker=tracker)"
      ]
    },
    {
      "cell_type": "markdown",
      "metadata": {},
      "source": [
        "Let us plot the progress of subspace pursuit over different iterations\n\n"
      ]
    },
    {
      "cell_type": "code",
      "execution_count": null,
      "metadata": {
        "collapsed": false
      },
      "outputs": [],
      "source": [
        "ax = crplot.one_plot(height=6)\ntracker.plot_progress(ax)"
      ]
    },
    {
      "cell_type": "markdown",
      "metadata": {},
      "source": [
        "Let us check if we correctly decoded all the nonzero entries\nin the sparse representation x\n\n"
      ]
    },
    {
      "cell_type": "code",
      "execution_count": null,
      "metadata": {
        "collapsed": false
      },
      "outputs": [],
      "source": [
        "problems.analyze_solution(prob, sol, perc=100)"
      ]
    },
    {
      "cell_type": "markdown",
      "metadata": {},
      "source": [
        "The estimated sparse representation\n\n"
      ]
    },
    {
      "cell_type": "code",
      "execution_count": null,
      "metadata": {
        "collapsed": false
      },
      "outputs": [],
      "source": [
        "x = sol.x"
      ]
    },
    {
      "cell_type": "markdown",
      "metadata": {},
      "source": [
        "Let us reconstruct the signal from this sparse representation\n\n"
      ]
    },
    {
      "cell_type": "code",
      "execution_count": null,
      "metadata": {
        "collapsed": false
      },
      "outputs": [],
      "source": [
        "y = prob.reconstruct(x)"
      ]
    },
    {
      "cell_type": "markdown",
      "metadata": {},
      "source": [
        "The estimated measurements\n\n"
      ]
    },
    {
      "cell_type": "code",
      "execution_count": null,
      "metadata": {
        "collapsed": false
      },
      "outputs": [],
      "source": [
        "b = A.times(x)"
      ]
    },
    {
      "cell_type": "markdown",
      "metadata": {},
      "source": [
        "Let us visualize the original and reconstructed representation\n\n"
      ]
    },
    {
      "cell_type": "code",
      "execution_count": null,
      "metadata": {
        "collapsed": false
      },
      "outputs": [],
      "source": [
        "def plot_representations(x0, x):\n    ax = crplot.h_plots(2, height=2)\n    ax[0].stem(x0, markerfmt='.')\n    ax[0].set_title('Original representation')\n    ax[1].stem(x, markerfmt='.')\n    ax[1].set_title('Reconstructed representation')\nplot_representations(x0, x)"
      ]
    },
    {
      "cell_type": "markdown",
      "metadata": {},
      "source": [
        "Let us visualize the original and reconstructed signal\n\n"
      ]
    },
    {
      "cell_type": "code",
      "execution_count": null,
      "metadata": {
        "collapsed": false
      },
      "outputs": [],
      "source": [
        "def plot_signals(y0, y):\n    ax = crplot.h_plots(2, height=2)\n    ax[0].plot(y0)\n    ax[0].set_title('Original signal')\n    ax[1].plot(y)\n    ax[1].set_title('Reconstructed signal')\nplot_signals(y0, y)"
      ]
    },
    {
      "cell_type": "markdown",
      "metadata": {},
      "source": [
        "Let us visualize the original and reconstructed measurements\n\n"
      ]
    },
    {
      "cell_type": "code",
      "execution_count": null,
      "metadata": {
        "collapsed": false
      },
      "outputs": [],
      "source": [
        "def plot_measurments(b0, b):\n    ax = crplot.h_plots(2, height=2)\n    ax[0].plot(b0)\n    ax[0].set_title('Original measurements')\n    ax[1].plot(b)\n    ax[1].set_title('Reconstructed measurements')\nplot_measurments(b0, b)"
      ]
    },
    {
      "cell_type": "markdown",
      "metadata": {},
      "source": [
        "We will now try to estimate a 278-sparse representation\n\n"
      ]
    },
    {
      "cell_type": "code",
      "execution_count": null,
      "metadata": {
        "collapsed": false
      },
      "outputs": [],
      "source": [
        "sol = sp.solve(A, b0, 278)"
      ]
    },
    {
      "cell_type": "markdown",
      "metadata": {},
      "source": [
        "Let us check if we correctly decoded all the nonzero entries\nin the sparse representation x\n\n"
      ]
    },
    {
      "cell_type": "code",
      "execution_count": null,
      "metadata": {
        "collapsed": false
      },
      "outputs": [],
      "source": [
        "problems.analyze_solution(prob, sol, perc=100)"
      ]
    },
    {
      "cell_type": "markdown",
      "metadata": {},
      "source": [
        "## Sparse Recovery using SPGL1\n\n"
      ]
    },
    {
      "cell_type": "code",
      "execution_count": null,
      "metadata": {
        "collapsed": false
      },
      "outputs": [],
      "source": [
        "import cr.sparse.cvx.spgl1 as crspgl1\nsigma = 0.01 * jnp.linalg.norm(b0)\noptions = crspgl1.SPGL1Options(max_iters=1000)\ntracker = crs.ProgressTracker(x0=x0, every=5)\nsol = crspgl1.solve_bpic_jit(A, b0, sigma, \n    options=options, tracker=tracker)"
      ]
    },
    {
      "cell_type": "markdown",
      "metadata": {},
      "source": [
        "Analyze the solution\n\n"
      ]
    },
    {
      "cell_type": "code",
      "execution_count": null,
      "metadata": {
        "collapsed": false
      },
      "outputs": [],
      "source": [
        "problems.analyze_solution(prob, sol, perc=100)"
      ]
    },
    {
      "cell_type": "markdown",
      "metadata": {},
      "source": [
        "Try with lower threshold on allowed noise\n\n"
      ]
    },
    {
      "cell_type": "code",
      "execution_count": null,
      "metadata": {
        "collapsed": false
      },
      "outputs": [],
      "source": [
        "sigma = 0.001 * jnp.linalg.norm(b0)\noptions = crspgl1.SPGL1Options(max_iters=1000)\ntracker = crs.ProgressTracker(x0=x0, every=20)\nsol = crspgl1.solve_bpic_jit(A, b0, sigma, \n    options=options, tracker=tracker)"
      ]
    },
    {
      "cell_type": "markdown",
      "metadata": {},
      "source": [
        "Let us plot the progress of SPGL1 over different iterations\n\n"
      ]
    },
    {
      "cell_type": "code",
      "execution_count": null,
      "metadata": {
        "collapsed": false
      },
      "outputs": [],
      "source": [
        "ax = crplot.one_plot(height=6)\ntracker.plot_progress(ax)"
      ]
    },
    {
      "cell_type": "markdown",
      "metadata": {},
      "source": [
        "Analyze the solution\n\n"
      ]
    },
    {
      "cell_type": "code",
      "execution_count": null,
      "metadata": {
        "collapsed": false
      },
      "outputs": [],
      "source": [
        "problems.analyze_solution(prob, sol, perc=100)"
      ]
    },
    {
      "cell_type": "markdown",
      "metadata": {},
      "source": [
        "The estimated sparse representation\n\n"
      ]
    },
    {
      "cell_type": "code",
      "execution_count": null,
      "metadata": {
        "collapsed": false
      },
      "outputs": [],
      "source": [
        "x = sol.x"
      ]
    },
    {
      "cell_type": "markdown",
      "metadata": {},
      "source": [
        "Let us reconstruct the signal from this sparse representation\n\n"
      ]
    },
    {
      "cell_type": "code",
      "execution_count": null,
      "metadata": {
        "collapsed": false
      },
      "outputs": [],
      "source": [
        "y = prob.reconstruct(x)"
      ]
    },
    {
      "cell_type": "markdown",
      "metadata": {},
      "source": [
        "The estimated measurements\n\n"
      ]
    },
    {
      "cell_type": "code",
      "execution_count": null,
      "metadata": {
        "collapsed": false
      },
      "outputs": [],
      "source": [
        "b = A.times(x)"
      ]
    },
    {
      "cell_type": "markdown",
      "metadata": {},
      "source": [
        "Let us visualize the original and reconstructed representation\n\n"
      ]
    },
    {
      "cell_type": "code",
      "execution_count": null,
      "metadata": {
        "collapsed": false
      },
      "outputs": [],
      "source": [
        "plot_representations(x0, x)"
      ]
    },
    {
      "cell_type": "markdown",
      "metadata": {},
      "source": [
        "Let us visualize the original and reconstructed signal\n\n"
      ]
    },
    {
      "cell_type": "code",
      "execution_count": null,
      "metadata": {
        "collapsed": false
      },
      "outputs": [],
      "source": [
        "plot_signals(y0, y)"
      ]
    },
    {
      "cell_type": "markdown",
      "metadata": {},
      "source": [
        "Let us visualize the original and reconstructed measurements\n\n"
      ]
    },
    {
      "cell_type": "code",
      "execution_count": null,
      "metadata": {
        "collapsed": false
      },
      "outputs": [],
      "source": [
        "plot_measurments(b0, b)"
      ]
    },
    {
      "cell_type": "markdown",
      "metadata": {},
      "source": [
        "## Comments\n\n* We need 115 coefficients in the representation in the\n  Daubechies basis to cover 99.9% of the signal energy.\n  There are a total of 278 nonzero coefficients. \n\nSubspace Pursuit\n\n* With K=100 (< 115), Subspace Pursuit recovery is not very good (low SNR).\n  It converges in 20 iterations.\n* With K=150, SP is pretty good.\n  All detected nonzero coefficients are part of the true support.\n* With K=200, the SNR further improves to 54 dB.\n* With K=250, the SNR further improves to 83 dB.\n  All detected coefficients are correct so far.\n* Pushing the sparsity to K=278 stars causing problems however.\n  We can see the SNR drop to 76 dB.\n  We can notice that only 243 of the detected 277 coefficients\n  are correct coefficients.\n\nSPGL1\n\n* We use the basis pursuit with inequality constraints version of\n  SPGL1 in this example.\n* The allowed sigma for the residual norm $\\| \\bA \\bx - \\bb \\|_2$\n  is chosen as a fraction of the norm of the measurements $\\| \\bb \\|_2$.\n* At a fraction of 0.01, SPGL1 converges in 106 iterations giving an\n  SNR of 27 dB.\n* At a fraction of 0.001, SPGL1 converges in 486 iterations\n  with an improved SNR of 29 dB.\n* It is interesting to note that while the measurement SNR has improved\n  remarkably from 40 dB to 60 dB (as the target residual norm has reduced\n  by a factor of 10), the improvement in signal SNR is not that good.\n  Having a tighter bound on residual norm doesn't lead significantly better\n  reconstruction.\n\n"
      ]
    }
  ],
  "metadata": {
    "kernelspec": {
      "display_name": "Python 3",
      "language": "python",
      "name": "python3"
    },
    "language_info": {
      "codemirror_mode": {
        "name": "ipython",
        "version": 3
      },
      "file_extension": ".py",
      "mimetype": "text/x-python",
      "name": "python",
      "nbconvert_exporter": "python",
      "pygments_lexer": "ipython3",
      "version": "3.8.18"
    }
  },
  "nbformat": 4,
  "nbformat_minor": 0
}