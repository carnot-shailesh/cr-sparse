{
  "cells": [
    {
      "cell_type": "code",
      "execution_count": null,
      "metadata": {
        "collapsed": false
      },
      "outputs": [],
      "source": [
        "%matplotlib inline"
      ]
    },
    {
      "cell_type": "markdown",
      "metadata": {},
      "source": [
        "\n\n# Matching Pursuit\n    :depth: 2\n    :local:\n\nThis is a very simple example of using\nthe matching pursuit algorithm.\n"
      ]
    },
    {
      "cell_type": "code",
      "execution_count": null,
      "metadata": {
        "collapsed": false
      },
      "outputs": [],
      "source": [
        "# Configure JAX to work with 64-bit floating point precision. \nfrom jax.config import config\nconfig.update(\"jax_enable_x64\", True)"
      ]
    },
    {
      "cell_type": "markdown",
      "metadata": {},
      "source": [
        "Let's import necessary libraries \n\n"
      ]
    },
    {
      "cell_type": "code",
      "execution_count": null,
      "metadata": {
        "collapsed": false
      },
      "outputs": [],
      "source": [
        "# random number generator\nfrom jax import random\n# numpy\nimport numpy as np\nimport jax.numpy as jnp\n# utilities\nimport cr.nimble as crn\n# sample data\nimport cr.sparse.data as crdata\n# linear operators\nimport cr.sparse.lop as crlop\n# matching pursuit algorithm\nimport cr.sparse.pursuit.mp as mp\nimport matplotlib.pyplot as plt"
      ]
    },
    {
      "cell_type": "markdown",
      "metadata": {},
      "source": [
        "Some random number generation keys\n\n"
      ]
    },
    {
      "cell_type": "code",
      "execution_count": null,
      "metadata": {
        "collapsed": false
      },
      "outputs": [],
      "source": [
        "key = random.PRNGKey(3)\nkeys = random.split(key, 5)"
      ]
    },
    {
      "cell_type": "markdown",
      "metadata": {},
      "source": [
        "## Problem setup\n\n"
      ]
    },
    {
      "cell_type": "code",
      "execution_count": null,
      "metadata": {
        "collapsed": false
      },
      "outputs": [],
      "source": [
        "# Ambient dimension\nn = 400\n# Number of non-zero entries in the sparse model\nk = 20\n# Number of compressive measurements\nm = 200"
      ]
    },
    {
      "cell_type": "markdown",
      "metadata": {},
      "source": [
        "## Spikes as sample data\n\n"
      ]
    },
    {
      "cell_type": "code",
      "execution_count": null,
      "metadata": {
        "collapsed": false
      },
      "outputs": [],
      "source": [
        "x, omega = crdata.sparse_spikes(keys[0], n, k)\nplt.figure(figsize=(8,6), dpi= 100, facecolor='w', edgecolor='k')\nplt.plot(x)"
      ]
    },
    {
      "cell_type": "markdown",
      "metadata": {},
      "source": [
        "## Gaussian sensing matrix linear operator\n\n"
      ]
    },
    {
      "cell_type": "code",
      "execution_count": null,
      "metadata": {
        "collapsed": false
      },
      "outputs": [],
      "source": [
        "Phi = crlop.gaussian_dict(keys[1], m, n)\n# Make sure that the linear operator is JIT compiled for efficiency.\nPhi = crlop.jit(Phi)"
      ]
    },
    {
      "cell_type": "markdown",
      "metadata": {},
      "source": [
        "## Compressive sensing/measurements\nClean measurements\n\n"
      ]
    },
    {
      "cell_type": "code",
      "execution_count": null,
      "metadata": {
        "collapsed": false
      },
      "outputs": [],
      "source": [
        "y0 = Phi.times(x)\n# Noise\nsigma = 0.01\nnoise = sigma * random.normal(keys[2], (m,))\n# Noisy measurements\ny = y0 + noise\nplt.figure(figsize=(8,6), dpi= 100, facecolor='w', edgecolor='k')\nplt.plot(y)\nprint(f'Measurement noise: {crn.signal_noise_ratio(y0, y):.2f} dB')"
      ]
    },
    {
      "cell_type": "markdown",
      "metadata": {},
      "source": [
        "## Reconstruction using matching pursuit\n\n"
      ]
    },
    {
      "cell_type": "code",
      "execution_count": null,
      "metadata": {
        "collapsed": false
      },
      "outputs": [],
      "source": [
        "sol = mp.solve(Phi, y, max_iters=k*2)\nprint(sol)\n# solution vector\nx_hat = sol.x"
      ]
    },
    {
      "cell_type": "markdown",
      "metadata": {},
      "source": [
        "## Solution \n\n"
      ]
    },
    {
      "cell_type": "code",
      "execution_count": null,
      "metadata": {
        "collapsed": false
      },
      "outputs": [],
      "source": [
        "plt.figure(figsize=(8,6), dpi= 100, facecolor='w', edgecolor='k')\nplt.subplot(211)\nplt.stem(x)\nplt.subplot(212)\nplt.stem(x_hat)"
      ]
    },
    {
      "cell_type": "markdown",
      "metadata": {},
      "source": [
        "## Metrics \n\n"
      ]
    },
    {
      "cell_type": "code",
      "execution_count": null,
      "metadata": {
        "collapsed": false
      },
      "outputs": [],
      "source": [
        "snr = crn.signal_noise_ratio(x, x_hat)\nprd = crn.percent_rms_diff(x, x_hat)\nn_rmse = crn.normalized_root_mse(x, x_hat)\nprint(f'SNR: {snr:.2f} dB, PRD: {prd:.2f} %, N-RMSE: {n_rmse:.2e}')"
      ]
    },
    {
      "cell_type": "markdown",
      "metadata": {},
      "source": [
        "### Verifying the support recovery \n\n"
      ]
    },
    {
      "cell_type": "code",
      "execution_count": null,
      "metadata": {
        "collapsed": false
      },
      "outputs": [],
      "source": [
        "print('Support of original signal: ', omega)\nprint('Support of reconstructed signal: ', sol.I)\n# check if every index in the original support is\n# also there in the reconstruction support\nprint(np.all(np.in1d(omega, sol.I)))"
      ]
    }
  ],
  "metadata": {
    "kernelspec": {
      "display_name": "Python 3",
      "language": "python",
      "name": "python3"
    },
    "language_info": {
      "codemirror_mode": {
        "name": "ipython",
        "version": 3
      },
      "file_extension": ".py",
      "mimetype": "text/x-python",
      "name": "python",
      "nbconvert_exporter": "python",
      "pygments_lexer": "ipython3",
      "version": "3.8.13"
    }
  },
  "nbformat": 4,
  "nbformat_minor": 0
}