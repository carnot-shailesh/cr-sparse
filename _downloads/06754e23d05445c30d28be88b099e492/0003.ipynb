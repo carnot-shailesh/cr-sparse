{
  "cells": [
    {
      "cell_type": "markdown",
      "metadata": {},
      "source": [
        "\n\n# Cosine+Spikes in Dirac-Cosine Basis\n    :depth: 2\n    :local:\n\nThe Cosine+Spikes signal in this example\nconsists of a mixture of 3 different cosine\nwaves with different amplitudes and\n120 different spikes (with normally distributed\namplitudes and randomly chosen locations).\n\nThe Cosine part of the signal has a sparse\nrepresentation in the Cosine (DCT) basis.\nThe Spikes part of the signal has a sparse\nrepresentation in the Dirac(Identity/Standard) basis.\nThus, the mixture Cosine+Spikes signal has a \nsparse representation (of 123 nonzero coefficients)\nin the Dirac-Cosine two ortho basis.\n\nNote that the spikes are normally distributed.\nSome of the spikes have extremely low amplitudes.\nThey may be missed by a recovery algorithm depending\non convergence thresholds.\n\nSee also:\n\n* `api:problems`\n* `api:lop`\n"
      ]
    },
    {
      "cell_type": "code",
      "execution_count": null,
      "metadata": {
        "collapsed": false
      },
      "outputs": [],
      "source": [
        "# Configure JAX to work with 64-bit floating point precision. \nfrom jax.config import config\nconfig.update(\"jax_enable_x64\", True)\n\nimport jax.numpy as jnp\nimport cr.nimble as crn\nimport cr.sparse.plots as crplot"
      ]
    },
    {
      "cell_type": "markdown",
      "metadata": {},
      "source": [
        "## Setup\nWe shall construct our test signal and dictionary\nusing our test problems module.\n\n"
      ]
    },
    {
      "cell_type": "code",
      "execution_count": null,
      "metadata": {
        "collapsed": false
      },
      "outputs": [],
      "source": [
        "from cr.sparse import problems\nprob = problems.generate('cosine-spikes:dirac-dct', c=3)\nfig, ax = problems.plot(prob)"
      ]
    },
    {
      "cell_type": "markdown",
      "metadata": {},
      "source": [
        "Let us access the relevant parts of our test problem\n\n"
      ]
    },
    {
      "cell_type": "code",
      "execution_count": null,
      "metadata": {
        "collapsed": false
      },
      "outputs": [],
      "source": [
        "# The sparsifying basis linear operator\nA = prob.A\n# The Cosine+Spikes signal\nb0 = prob.b\n# The sparse representation of the signal in the dictionary\nx0 = prob.x"
      ]
    },
    {
      "cell_type": "markdown",
      "metadata": {},
      "source": [
        "Check how many coefficients in the sparse representation\nare sufficient to capture 99.9% of the energy of the signal\n\n"
      ]
    },
    {
      "cell_type": "code",
      "execution_count": null,
      "metadata": {
        "collapsed": false
      },
      "outputs": [],
      "source": [
        "print(crn.num_largest_coeffs_for_energy_percent(x0, 99.9))"
      ]
    },
    {
      "cell_type": "markdown",
      "metadata": {},
      "source": [
        "This number gives us an idea about the required sparsity\nto be configured for greedy pursuit algorithms.\n\n"
      ]
    },
    {
      "cell_type": "markdown",
      "metadata": {},
      "source": [
        "## Sparse Recovery using Subspace Pursuit\nWe shall use subspace pursuit to reconstruct the signal.\n\n"
      ]
    },
    {
      "cell_type": "code",
      "execution_count": null,
      "metadata": {
        "collapsed": false
      },
      "outputs": [],
      "source": [
        "import cr.sparse.pursuit.sp as sp\n\n# We will first try to estimate a 100-sparse representation\nsol = sp.solve(A, b0, 100)"
      ]
    },
    {
      "cell_type": "markdown",
      "metadata": {},
      "source": [
        "This utility function helps us quickly analyze the quality of reconstruction\n\n"
      ]
    },
    {
      "cell_type": "code",
      "execution_count": null,
      "metadata": {
        "collapsed": false
      },
      "outputs": [],
      "source": [
        "problems.analyze_solution(prob, sol)"
      ]
    },
    {
      "cell_type": "markdown",
      "metadata": {},
      "source": [
        "It takes 20 iterations to converge and 76 of the largest 78\nentries have been correctly identified.\n\n"
      ]
    },
    {
      "cell_type": "markdown",
      "metadata": {},
      "source": [
        "We will now try to estimate a 150-sparse representation\n\n"
      ]
    },
    {
      "cell_type": "code",
      "execution_count": null,
      "metadata": {
        "collapsed": false
      },
      "outputs": [],
      "source": [
        "sol = sp.solve(A, b0, 150)\nproblems.analyze_solution(prob, sol)"
      ]
    },
    {
      "cell_type": "markdown",
      "metadata": {},
      "source": [
        "We have correctly detected all the 78 most significant entries\nLet us check if we correctly decoded all the nonzero entries\nin the sparse representation x\n\n"
      ]
    },
    {
      "cell_type": "code",
      "execution_count": null,
      "metadata": {
        "collapsed": false
      },
      "outputs": [],
      "source": [
        "problems.analyze_solution(prob, sol, perc=100)"
      ]
    },
    {
      "cell_type": "markdown",
      "metadata": {},
      "source": [
        "The estimated sparse representation\n\n"
      ]
    },
    {
      "cell_type": "code",
      "execution_count": null,
      "metadata": {
        "collapsed": false
      },
      "outputs": [],
      "source": [
        "x = sol.x"
      ]
    },
    {
      "cell_type": "markdown",
      "metadata": {},
      "source": [
        "Let us reconstruct the signal from this sparse representation\n\n"
      ]
    },
    {
      "cell_type": "code",
      "execution_count": null,
      "metadata": {
        "collapsed": false
      },
      "outputs": [],
      "source": [
        "b = prob.reconstruct(x)"
      ]
    },
    {
      "cell_type": "markdown",
      "metadata": {},
      "source": [
        "Let us visualize the original and reconstructed representation\n\n"
      ]
    },
    {
      "cell_type": "code",
      "execution_count": null,
      "metadata": {
        "collapsed": false
      },
      "outputs": [],
      "source": [
        "ax = crplot.h_plots(2)\nax[0].stem(x0, markerfmt='.')\nax[1].stem(x, markerfmt='.')"
      ]
    },
    {
      "cell_type": "markdown",
      "metadata": {},
      "source": [
        "Let us visualize the original and reconstructed signal\n\n"
      ]
    },
    {
      "cell_type": "code",
      "execution_count": null,
      "metadata": {
        "collapsed": false
      },
      "outputs": [],
      "source": [
        "ax = crplot.h_plots(2)\nax[0].plot(b0)\nax[1].plot(b)"
      ]
    },
    {
      "cell_type": "markdown",
      "metadata": {},
      "source": [
        "## Sparse Recovery using Compressive Sampling Matching Pursuit\nWe shall now use compressive sampling matching pursuit to reconstruct the signal.\n\n"
      ]
    },
    {
      "cell_type": "code",
      "execution_count": null,
      "metadata": {
        "collapsed": false
      },
      "outputs": [],
      "source": [
        "import cr.sparse.pursuit.cosamp as cosamp\n# We will try to estimate a 150-sparse representation\nsol = cosamp.solve(A, b0, 150)\nproblems.analyze_solution(prob, sol, perc=100)"
      ]
    },
    {
      "cell_type": "markdown",
      "metadata": {},
      "source": [
        "The estimated sparse representation\n\n"
      ]
    },
    {
      "cell_type": "code",
      "execution_count": null,
      "metadata": {
        "collapsed": false
      },
      "outputs": [],
      "source": [
        "x = sol.x"
      ]
    },
    {
      "cell_type": "markdown",
      "metadata": {},
      "source": [
        "Let us reconstruct the signal from this sparse representation\n\n"
      ]
    },
    {
      "cell_type": "code",
      "execution_count": null,
      "metadata": {
        "collapsed": false
      },
      "outputs": [],
      "source": [
        "b = prob.reconstruct(x)"
      ]
    },
    {
      "cell_type": "markdown",
      "metadata": {},
      "source": [
        "Let us visualize the original and reconstructed representation\n\n"
      ]
    },
    {
      "cell_type": "code",
      "execution_count": null,
      "metadata": {
        "collapsed": false
      },
      "outputs": [],
      "source": [
        "ax = crplot.h_plots(2)\nax[0].stem(x0, markerfmt='.')\nax[1].stem(x, markerfmt='.')"
      ]
    },
    {
      "cell_type": "markdown",
      "metadata": {},
      "source": [
        "Let us visualize the original and reconstructed signal\n\n"
      ]
    },
    {
      "cell_type": "code",
      "execution_count": null,
      "metadata": {
        "collapsed": false
      },
      "outputs": [],
      "source": [
        "ax = crplot.h_plots(2)\nax[0].plot(b0)\nax[1].plot(b)"
      ]
    },
    {
      "cell_type": "markdown",
      "metadata": {},
      "source": [
        "## Sparse Recovery using SPGL1\n\n"
      ]
    },
    {
      "cell_type": "code",
      "execution_count": null,
      "metadata": {
        "collapsed": false
      },
      "outputs": [],
      "source": [
        "import cr.sparse.cvx.spgl1 as crspgl1\noptions = crspgl1.SPGL1Options()\nsol = crspgl1.solve_bp_jit(A, b0, options=options)\nproblems.analyze_solution(prob, sol, perc=100)"
      ]
    },
    {
      "cell_type": "markdown",
      "metadata": {},
      "source": [
        "The estimated sparse representation\n\n"
      ]
    },
    {
      "cell_type": "code",
      "execution_count": null,
      "metadata": {
        "collapsed": false
      },
      "outputs": [],
      "source": [
        "x = sol.x"
      ]
    },
    {
      "cell_type": "markdown",
      "metadata": {},
      "source": [
        "Let us reconstruct the signal from this sparse representation\n\n"
      ]
    },
    {
      "cell_type": "code",
      "execution_count": null,
      "metadata": {
        "collapsed": false
      },
      "outputs": [],
      "source": [
        "b = prob.reconstruct(x)"
      ]
    },
    {
      "cell_type": "markdown",
      "metadata": {},
      "source": [
        "Let us visualize the original and reconstructed representation\n\n"
      ]
    },
    {
      "cell_type": "code",
      "execution_count": null,
      "metadata": {
        "collapsed": false
      },
      "outputs": [],
      "source": [
        "ax = crplot.h_plots(2)\nax[0].stem(x0, markerfmt='.')\nax[1].stem(x, markerfmt='.')"
      ]
    },
    {
      "cell_type": "markdown",
      "metadata": {},
      "source": [
        "Let us visualize the original and reconstructed signal\n\n"
      ]
    },
    {
      "cell_type": "code",
      "execution_count": null,
      "metadata": {
        "collapsed": false
      },
      "outputs": [],
      "source": [
        "ax = crplot.h_plots(2)\nax[0].plot(b0)\nax[1].plot(b)"
      ]
    },
    {
      "cell_type": "markdown",
      "metadata": {},
      "source": [
        "## Comments\n\n* Both SP and CoSaMP correctly recover the signal in 5 iterations\n  if the sparsity is specified properly.\n* SP recovery is slightly inaccurate if the sparsity is incorrectly\n  specified. It also takes more iterations to converge.\n* SPGL1 converges in 55 iterations but correctly discovers the\n  support.\n\n"
      ]
    }
  ],
  "metadata": {
    "kernelspec": {
      "display_name": "Python 3",
      "language": "python",
      "name": "python3"
    },
    "language_info": {
      "codemirror_mode": {
        "name": "ipython",
        "version": 3
      },
      "file_extension": ".py",
      "mimetype": "text/x-python",
      "name": "python",
      "nbconvert_exporter": "python",
      "pygments_lexer": "ipython3",
      "version": "3.8.18"
    }
  },
  "nbformat": 4,
  "nbformat_minor": 0
}