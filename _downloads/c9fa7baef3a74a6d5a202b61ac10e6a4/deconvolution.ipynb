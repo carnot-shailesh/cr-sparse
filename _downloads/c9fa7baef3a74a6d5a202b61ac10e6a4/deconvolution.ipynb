{
  "cells": [
    {
      "cell_type": "code",
      "execution_count": null,
      "metadata": {
        "collapsed": false
      },
      "outputs": [],
      "source": [
        "%matplotlib inline"
      ]
    },
    {
      "cell_type": "markdown",
      "metadata": {},
      "source": [
        "\n\n# Deconvolution\n\nThis example demonstrates following features:\n\n- ``cr.sparse.lop.convolve`` A 1D convolution linear operator\n- ``cr.sparse.geo.ricker`` Ricker wavelet \n- ``cr.sparse.sls.lsqr`` LSQR algorithm for solving a least square problem\n\nDoconvolution is an inverse operation to the convolution operation.\nConvolving a signal with some filter may introduce some artifacts. \nA successful deconvolution can remove those artificats.\n\nWhen a signal is observed through an instrument, an instrument usually\nhas its own impulse response which may be spread over time. Thus, the\noutput of the instrument will not be the original signal but a filtered\nversion of it. \n\nLet $h$ denote the filter response of an instrument and $x$\ndenote the signal being observed. Then the actual observation is \n\n\\begin{align}y = h \\star x\\end{align}\n\nwhere $\\star$ is the convolution operation.\n\nIt is possible to model the convolution operation as a matrix multiplication.\n\n\\begin{align}y = H x\\end{align}\n\nwhere $H$ is a sparse and structured matrix with non-zero entries from the\nimpulse response $h$.\n\nUnder this model, recovering the original signal $x$ from the measurements\n$y$ reduces to the problem of solving a **sparse linear system**\n\n\\begin{align}H x = y\\end{align}\n\nWe can use the LSQR algorithm (available in ``cr.sparse.sls.lsqr``) to solve this \nsystem efficiently. LSQR algorithm doesn't need to know the matrix $H$\nexplicitly. All it needs are two functions to compute the matrix multiplication\n$H v$ and the adjoint multiplication $H^T u$.\n\nWe model $H$ using the ``cr.sparse.lop.convolve`` operator.\n"
      ]
    },
    {
      "cell_type": "markdown",
      "metadata": {},
      "source": [
        "Let's import necessary libraries \n\n"
      ]
    },
    {
      "cell_type": "code",
      "execution_count": null,
      "metadata": {
        "collapsed": false
      },
      "outputs": [],
      "source": [
        "import jax.numpy as jnp\n# For plotting diagrams\nimport matplotlib.pyplot as plt\n## CR-Sparse modules\nimport cr.nimble as cnb\n# Linear operators\nfrom cr.sparse import lop\n# Geophysics stuff [Ricker wavelet]\nfrom cr.sparse import geo\n# DSP utilities\nfrom cr.sparse import dsp\n# Solvers for sparse linear systems\nfrom cr.sparse import sls\n# Configure JAX for 64-bit computing\nfrom jax.config import config\nconfig.update(\"jax_enable_x64\", True)"
      ]
    },
    {
      "cell_type": "markdown",
      "metadata": {},
      "source": [
        "## Problem Setup\n\n"
      ]
    },
    {
      "cell_type": "code",
      "execution_count": null,
      "metadata": {
        "collapsed": false
      },
      "outputs": [],
      "source": [
        "fs = 250\ndt = 1/fs"
      ]
    },
    {
      "cell_type": "markdown",
      "metadata": {},
      "source": [
        "### The Ricker wavelet response of the instrument\nThe time duration of the instrument response\n\n"
      ]
    },
    {
      "cell_type": "code",
      "execution_count": null,
      "metadata": {
        "collapsed": false
      },
      "outputs": [],
      "source": [
        "T_h = 0.8\n# Wavelet peak frequency\nf0 = 30\n# Time values at which the wavelet will be evaluated \nt_h = dsp.time_values(fs, T_h, initial_time=-T_h/2, endpoint=True)\n# Values of the Ricker wavelet\nh = geo.ricker(t_h, f0)\n# Plot the wavelet\nfig, ax = plt.subplots(1, 1, figsize=(10, 3), dpi= 100, facecolor='w', edgecolor='k')\nax.plot(t_h, h)\n# Zoom in to the central part of interest\nax.set_xlim(-0.2, 0.2)"
      ]
    },
    {
      "cell_type": "markdown",
      "metadata": {},
      "source": [
        "### The impulse signal to be observed\n\n"
      ]
    },
    {
      "cell_type": "code",
      "execution_count": null,
      "metadata": {
        "collapsed": false
      },
      "outputs": [],
      "source": [
        "T = 4 \nt = dsp.time_values(fs, T, endpoint=True)\n# The length of the signal\nn = len(t)\nmid = n // 2\n# A unit vector with one at mid position and zero everywhere else\nx = cnb.vec_unit(n, mid)\nfig, ax = plt.subplots(1,1, figsize=(10, 3), dpi= 100, facecolor='w', edgecolor='k')\nax.plot(t, x)\n# Let's focus on the middle part of the signal\nax.set_xlim(1.9, 2.1)"
      ]
    },
    {
      "cell_type": "markdown",
      "metadata": {},
      "source": [
        "### The linear operator representing the instrument\nIdentify the peak of the impulse response\n\n"
      ]
    },
    {
      "cell_type": "code",
      "execution_count": null,
      "metadata": {
        "collapsed": false
      },
      "outputs": [],
      "source": [
        "idx = jnp.argmax(jnp.abs(h))\n# Construct a convolution operator based on the wavelet response\n# centered at the peak of the wavelet\nH = lop.convolve(n, h, offset=idx)\n# JIT compile the convolution operator for efficiency\nH = lop.jit(H)"
      ]
    },
    {
      "cell_type": "markdown",
      "metadata": {},
      "source": [
        "### The measurement process\nCompute the measured signal via convolution\n\n"
      ]
    },
    {
      "cell_type": "code",
      "execution_count": null,
      "metadata": {
        "collapsed": false
      },
      "outputs": [],
      "source": [
        "y = H.times(x)\n# plot the original signal vs. the observed signal\nfig, ax = plt.subplots(1, 1, figsize=(10, 3))\nax.plot(t, x, 'k', lw=2, label=r'$x$')\nax.plot(t, y, 'r', lw=2, label=r'$y=A x$')\nax.set_title('Signal vs Measurements', fontsize=14, fontweight='bold')\nax.legend()\n# Focus on the middle part\nax.set_xlim(1.9, 2.1)"
      ]
    },
    {
      "cell_type": "markdown",
      "metadata": {},
      "source": [
        "### Deconvolution to clean the signal using LSQR\nAn initial guess of the actual signal is all zeros\n\n"
      ]
    },
    {
      "cell_type": "code",
      "execution_count": null,
      "metadata": {
        "collapsed": false
      },
      "outputs": [],
      "source": [
        "x0 = jnp.zeros(n)\n# We run LSQR algorithm to clean the signal contents for 25 iterations\nsol = sls.lsqr(H, y, x0, max_iters=25)\n# Plot the recovered signal against the measured signal\nfig, ax = plt.subplots(1, 1, figsize=(10, 3))\nax.plot(t, y, 'r', lw=2, label=r'$y=Ax$ measurements')\nax.plot(t, sol.x, '--g', lw=2, label=r'$\\overline{x}$ deconvolved signal')\nax.set_title('Deconvolution', fontsize=14, fontweight='bold')\nax.legend()\n# Focus on the middle part\nax.set_xlim(1.9, 2.1)\n\n# Estimated values from the algorithm\nprint(\"A norm: \", sol.A_norm) \nprint(\"A condition number: \", sol.A_cond)\nprint(\"r_norm: \", sol.r_norm, \"x_norm: \", sol.x_norm, \"atr_norm: \", sol.atr_norm)\nprint(\"Iterations: \", sol.iterations, \" H x calls: \", sol.n_times, \"H^T x calls: \", sol.n_trans)"
      ]
    },
    {
      "cell_type": "markdown",
      "metadata": {},
      "source": [
        "### Stronger deconvolution\nWe run LSQR algorithm to clean the signal contents for 100 iterations\n\n"
      ]
    },
    {
      "cell_type": "code",
      "execution_count": null,
      "metadata": {
        "collapsed": false
      },
      "outputs": [],
      "source": [
        "sol2 = sls.lsqr(H, y, x0, max_iters=100)\n# Plot the recovered signal against the measured signal\nfig, ax = plt.subplots(1, 1, figsize=(10, 3))\nax.plot(t, sol.x, 'r', lw=2, label=r'25 iterations')\nax.plot(t, sol2.x, '--g', lw=2, label=r'100 iterations')\nax.set_title('Deconvolution', fontsize=14, fontweight='bold')\nax.legend()\n# Focus on the middle part\nax.set_xlim(1.9, 2.1)\n\nprint(\"A norm: \", sol2.A_norm) \nprint(\"A condition number: \", sol2.A_cond)\nprint(\"r_norm: \", sol2.r_norm, \"x_norm: \", sol2.x_norm, \"atr_norm: \", sol2.atr_norm)\nprint(\"Iterations: \", sol2.iterations, \" H x calls: \", sol2.n_times, \"H^T x calls: \", sol2.n_trans)"
      ]
    }
  ],
  "metadata": {
    "kernelspec": {
      "display_name": "Python 3",
      "language": "python",
      "name": "python3"
    },
    "language_info": {
      "codemirror_mode": {
        "name": "ipython",
        "version": 3
      },
      "file_extension": ".py",
      "mimetype": "text/x-python",
      "name": "python",
      "nbconvert_exporter": "python",
      "pygments_lexer": "ipython3",
      "version": "3.8.13"
    }
  },
  "nbformat": 4,
  "nbformat_minor": 0
}