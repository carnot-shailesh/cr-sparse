{
  "cells": [
    {
      "cell_type": "code",
      "execution_count": null,
      "metadata": {
        "collapsed": false
      },
      "outputs": [],
      "source": [
        "%matplotlib inline"
      ]
    },
    {
      "cell_type": "markdown",
      "metadata": {},
      "source": [
        "\n\n# HeaviSine Signal in Fourier-HeaviSide Basis\n    :depth: 2\n    :local:\n\nA HeaviSine signal as proposed by Donoho et al.\nin Wavelab :cite:`buckheit1995wavelab` is a sign\nwave with jump discontinuities. It is not sparse\nin standard (dirac) basis. It also doesn't have\na sparse representation in the Fourier basis.\nHowever, it does have a sparse representation\nin the Fourier-Heaviside dictionary.\n\nIn this example, we will generate a test problem\nof HeaviSine signal and construct its sparse\nrepresentation through various algorithms.\n\nThe dictionary is a concatenation of the\n(orthonormal) Fourier basis and a (non-orthogonal)\nHeaviSide basis.\n\nHeaviSide basis is derived from the\n[HeaviSide step function](Heaviside step function).\nIn its finite dimensional discrete form it looks\nlike an $n \\times n$ matrix that has ones below\nand on the diagonal and zeros elsewhere.\nIn other words, all the elements above the diagonal\nare zero and rest are one.\n\nTypical sparse reconstruction algorithms assume that\nthe atoms in a sparsifying dictionary have unit norms.\nWe provide both the unnormalized (with one in lower triangular\npart) and normalized versions of the HeaviSide basis\nin ``cr.sparse.lop`` module.\nIn this example, we shall use the normalized HeaviSide\nbasis.\n\nSince the dictionary contains a Fourier basis, hence\nthe representation of the HeaviSine signal in this\ndictionary is a complex valued representation.\nThe signal itself however is real.\n\nSee also:\n\n* `api:problems`\n* `api:lop`\n* `api:l1min`\n"
      ]
    },
    {
      "cell_type": "code",
      "execution_count": null,
      "metadata": {
        "collapsed": false
      },
      "outputs": [],
      "source": [
        "# Configure JAX to work with 64-bit floating point precision. \nfrom jax.config import config\nconfig.update(\"jax_enable_x64\", True)\n\nimport jax.numpy as jnp\nimport cr.nimble as crn"
      ]
    },
    {
      "cell_type": "markdown",
      "metadata": {},
      "source": [
        "## Setup\nWe shall construct our test signal and dictionary\nusing our test problems module.\n\n"
      ]
    },
    {
      "cell_type": "code",
      "execution_count": null,
      "metadata": {
        "collapsed": false
      },
      "outputs": [],
      "source": [
        "from cr.sparse import problems\nprob = problems.generate('heavi-sine:fourier:heavi-side')\nfig, ax = problems.plot(prob)"
      ]
    },
    {
      "cell_type": "markdown",
      "metadata": {},
      "source": [
        "Let us access the relevant parts of our test problem\n\n"
      ]
    },
    {
      "cell_type": "code",
      "execution_count": null,
      "metadata": {
        "collapsed": false
      },
      "outputs": [],
      "source": [
        "# The sparsifying basis linear operator\nA = prob.A\n# The HeaviSine signal\nb0 = prob.b\n# The sparse representation of the HeaviSide signal in the dictionary\nx0 = prob.x"
      ]
    },
    {
      "cell_type": "markdown",
      "metadata": {},
      "source": [
        "Check how many coefficients in the sparse representation\nare sufficient to capture 99.9% of the energy of the signal\n\n"
      ]
    },
    {
      "cell_type": "code",
      "execution_count": null,
      "metadata": {
        "collapsed": false
      },
      "outputs": [],
      "source": [
        "print(crn.num_largest_coeffs_for_energy_percent(x0, 99.9))"
      ]
    },
    {
      "cell_type": "markdown",
      "metadata": {},
      "source": [
        "## Sparse Recovery using Subspace Pursuit\nWe shall use subspace pursuit to reconstruct the signal.\n\n"
      ]
    },
    {
      "cell_type": "code",
      "execution_count": null,
      "metadata": {
        "collapsed": false
      },
      "outputs": [],
      "source": [
        "import cr.sparse.pursuit.sp as sp\n# We will try to estimate a 10-sparse representation\nsol = sp.solve(prob.A, prob.b, 10)\nprint(sol)"
      ]
    },
    {
      "cell_type": "markdown",
      "metadata": {},
      "source": [
        "The sparse representation estimated by subspace pursuit\n\n"
      ]
    },
    {
      "cell_type": "code",
      "execution_count": null,
      "metadata": {
        "collapsed": false
      },
      "outputs": [],
      "source": [
        "x = sol.x"
      ]
    },
    {
      "cell_type": "markdown",
      "metadata": {},
      "source": [
        "Let us reconstruct the signal from this sparse representation\n\n"
      ]
    },
    {
      "cell_type": "code",
      "execution_count": null,
      "metadata": {
        "collapsed": false
      },
      "outputs": [],
      "source": [
        "b = prob.reconstruct(x)"
      ]
    },
    {
      "cell_type": "markdown",
      "metadata": {},
      "source": [
        "Check if we could reconstruct the sparse representation correctly\n\n"
      ]
    },
    {
      "cell_type": "code",
      "execution_count": null,
      "metadata": {
        "collapsed": false
      },
      "outputs": [],
      "source": [
        "print(f'Model Space SNR: {crn.signal_noise_ratio(x0, x)} dB')"
      ]
    },
    {
      "cell_type": "markdown",
      "metadata": {},
      "source": [
        "The SNR between the expected sparse representation\nand the recovered sparse representation is low.\nHeaviSide basis is highly correlated (high coherence).\nHence, we\ncouldn't make the exact recovery of the original sparse\nrepresentation. Nevertheless we indeed recovered a good sparse\nrepresentation since the residual norm is very small\n\n"
      ]
    },
    {
      "cell_type": "markdown",
      "metadata": {},
      "source": [
        "Check if we could reconstruct the signal correctly\n\n"
      ]
    },
    {
      "cell_type": "code",
      "execution_count": null,
      "metadata": {
        "collapsed": false
      },
      "outputs": [],
      "source": [
        "print(f'Signal Space SNR: {crn.signal_noise_ratio(b0, b)} dB')"
      ]
    },
    {
      "cell_type": "markdown",
      "metadata": {},
      "source": [
        "The reconstruction is indeed excellent.\n\n"
      ]
    },
    {
      "cell_type": "markdown",
      "metadata": {},
      "source": [
        "Let us visualize the original and reconstructed signal\n\n"
      ]
    },
    {
      "cell_type": "code",
      "execution_count": null,
      "metadata": {
        "collapsed": false
      },
      "outputs": [],
      "source": [
        "import cr.sparse.plots as crplot\nax = crplot.h_plots(2)\nax[0].plot(b0)\nax[1].plot(b)"
      ]
    },
    {
      "cell_type": "markdown",
      "metadata": {},
      "source": [
        "## Sparse Recovery using SPGL1\n\n"
      ]
    },
    {
      "cell_type": "code",
      "execution_count": null,
      "metadata": {
        "collapsed": false
      },
      "outputs": [],
      "source": [
        "import cr.sparse.cvx.spgl1 as crspgl1\noptions = crspgl1.SPGL1Options(max_iters=2000)\nsol = crspgl1.solve_bp_jit(A, b0, options=options)\nproblems.analyze_solution(prob, sol)"
      ]
    },
    {
      "cell_type": "markdown",
      "metadata": {},
      "source": [
        "The estimated sparse representation\n\n"
      ]
    },
    {
      "cell_type": "code",
      "execution_count": null,
      "metadata": {
        "collapsed": false
      },
      "outputs": [],
      "source": [
        "x = sol.x"
      ]
    },
    {
      "cell_type": "markdown",
      "metadata": {},
      "source": [
        "Let us reconstruct the signal from this sparse representation\n\n"
      ]
    },
    {
      "cell_type": "code",
      "execution_count": null,
      "metadata": {
        "collapsed": false
      },
      "outputs": [],
      "source": [
        "b = prob.reconstruct(x)"
      ]
    },
    {
      "cell_type": "markdown",
      "metadata": {},
      "source": [
        "Let us visualize the original and reconstructed signal\n\n"
      ]
    },
    {
      "cell_type": "code",
      "execution_count": null,
      "metadata": {
        "collapsed": false
      },
      "outputs": [],
      "source": [
        "ax = crplot.h_plots(2)\nax[0].plot(b0)\nax[1].plot(b)"
      ]
    },
    {
      "cell_type": "markdown",
      "metadata": {},
      "source": [
        "## Comments\n\n* Subspace Pursuit converges very fast in 4 iterations.\n* SPGL1 takes 1600+ iterations to converge. Still it is inaccurate.\n* The HeaviSide basis is highly coherent. It doesn't satisfy RIP guarantees.\n\n"
      ]
    }
  ],
  "metadata": {
    "kernelspec": {
      "display_name": "Python 3",
      "language": "python",
      "name": "python3"
    },
    "language_info": {
      "codemirror_mode": {
        "name": "ipython",
        "version": 3
      },
      "file_extension": ".py",
      "mimetype": "text/x-python",
      "name": "python",
      "nbconvert_exporter": "python",
      "pygments_lexer": "ipython3",
      "version": "3.8.14"
    }
  },
  "nbformat": 4,
  "nbformat_minor": 0
}