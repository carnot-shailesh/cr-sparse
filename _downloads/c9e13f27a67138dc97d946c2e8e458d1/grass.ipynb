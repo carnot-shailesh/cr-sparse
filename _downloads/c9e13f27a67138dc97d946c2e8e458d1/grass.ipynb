{
  "cells": [
    {
      "cell_type": "code",
      "execution_count": null,
      "metadata": {
        "collapsed": false
      },
      "outputs": [],
      "source": [
        "%matplotlib inline"
      ]
    },
    {
      "cell_type": "markdown",
      "metadata": {},
      "source": [
        "\n\n# Grassmannian Frames\n    :depth: 2\n    :local:\n\nA Grassmannian (real) frame $\\Phi$ is an $m \\times n$ matrix (dictionary)\nwith unit norm columns such that the individual columns (atoms) are\nas far away from each other as possible.\nIn other words, it is a matrix with minimum possible coherence.\nIf $\\bG = \\Phi^T \\Phi$ then every off diagonal entry of\nthe Gram matrix $\\bG$ has the value:\n\n\\begin{align}|g_{i j} | = \\sqrt{\\frac{n - m}{m (n - 1)}}\\end{align}\n\nGrassmannian frames are hard to construct.\nCR-Sparse library includes a method based on\nalternate projections to construct a Grassmannian frame\nstarting from a random dictionary.\n"
      ]
    },
    {
      "cell_type": "code",
      "execution_count": null,
      "metadata": {
        "collapsed": false
      },
      "outputs": [],
      "source": [
        "# Configure JAX to work with 64-bit floating point precision. \nfrom jax.config import config\nconfig.update(\"jax_enable_x64\", True)"
      ]
    },
    {
      "cell_type": "markdown",
      "metadata": {},
      "source": [
        "Let's import necessary libraries \n\n"
      ]
    },
    {
      "cell_type": "code",
      "execution_count": null,
      "metadata": {
        "collapsed": false
      },
      "outputs": [],
      "source": [
        "import jax\nimport numpy as np\nimport jax.numpy as jnp\nimport cr.nimble as crn\nimport cr.sparse as crs\nimport cr.sparse.dict as crdict\nfrom matplotlib import pyplot as plt"
      ]
    },
    {
      "cell_type": "markdown",
      "metadata": {},
      "source": [
        "## Frame size\n\n"
      ]
    },
    {
      "cell_type": "code",
      "execution_count": null,
      "metadata": {
        "collapsed": false
      },
      "outputs": [],
      "source": [
        "m = 50\nn = 100"
      ]
    },
    {
      "cell_type": "markdown",
      "metadata": {},
      "source": [
        "## Minimum possible coherence\n\n"
      ]
    },
    {
      "cell_type": "code",
      "execution_count": null,
      "metadata": {
        "collapsed": false
      },
      "outputs": [],
      "source": [
        "min_mu = crdict.minimum_coherence(m, n)\nprint(f'Minimum coherence {min_mu:.5f}')"
      ]
    },
    {
      "cell_type": "markdown",
      "metadata": {},
      "source": [
        "## Construction of Grassmannian frame\n\n"
      ]
    },
    {
      "cell_type": "code",
      "execution_count": null,
      "metadata": {
        "collapsed": false
      },
      "outputs": [],
      "source": [
        "# Start with a Gaussian random dictionary\ninit = crdict.gaussian_mtx(crn.KEYS[0], m, n)\n# Iteratively bring it close to a Grassmannian frame\nframe = crdict.build_grassmannian_frame(init, iterations=50)\n# The Gram matrix of the final frame\ngram = frame.T @ frame\n# Off diagonal elements of the gram matrix\noff = np.asarray(crn.off_diagonal_elements(gram))\nprint(f'min: {np.min(off):.3f}, max: {np.max(off):.3f}, mean: {np.mean(np.abs(off)):.5f}')\n# Absolute values of the Gram matrix\nplt.imshow(np.abs(gram))"
      ]
    }
  ],
  "metadata": {
    "kernelspec": {
      "display_name": "Python 3",
      "language": "python",
      "name": "python3"
    },
    "language_info": {
      "codemirror_mode": {
        "name": "ipython",
        "version": 3
      },
      "file_extension": ".py",
      "mimetype": "text/x-python",
      "name": "python",
      "nbconvert_exporter": "python",
      "pygments_lexer": "ipython3",
      "version": "3.8.13"
    }
  },
  "nbformat": 4,
  "nbformat_minor": 0
}