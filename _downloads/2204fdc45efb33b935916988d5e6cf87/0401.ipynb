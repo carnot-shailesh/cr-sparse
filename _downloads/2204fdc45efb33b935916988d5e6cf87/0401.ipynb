{
  "cells": [
    {
      "cell_type": "code",
      "execution_count": null,
      "metadata": {
        "collapsed": false
      },
      "outputs": [],
      "source": [
        "%matplotlib inline"
      ]
    },
    {
      "cell_type": "markdown",
      "metadata": {},
      "source": [
        "\n\n# Source Separation I\n    :depth: 2\n    :local:\n\n\nIn audio signal processing,\nsource separation is the process of isolating individual sounds\nin an auditory mixture of multiple sounds.\n\n## Modeling the Source Separation Problem\n\nIn this example we consider the problem\nof separating two sources which have been\nmixed together. \nOne is the sound of a guitar,\nand another is the sound of piano.\nThe mixture is being sensor from two\ndifferent places with different mixing\nweights at each sensor. For each time\ninstant, the mixing process can be\ndescribed by the equation:\n\n\\begin{align}\\bv = \\bM \\bu\\end{align}\n\nwhere $\\bu$ is a 2-vector containing\none sample each from the guitar and piano\nsounds and $\\bv$ is a 2-vector containing\nthe samples from the two different listening sensors.\nThe matrix $\\bM$ is a $2 \\times 2$\nmixing matrix.\nThe mixing matrix\nis known to us in this problem.\n\nAssume that the audio has been captured for $m$\nsamples. We can put together the source audio in\na $m \\times 2$ matrix $\\by$ and the captured\naudio from the two sensors as a $m \\times 2$\nmatrix $\\bb$ with the mixing relationship given by\n\n\\begin{align}\\bb = \\by \\bM^T\\end{align}\n\nHere the post multiplication by the matrix\n$\\bM^T$ is equality to processing each\nrow of input $\\by$ by the mixing process\nto generate a row of output.\n\n### The Sensor\n\nFrom the perspective of sparse reconstruction,\nwe treat the mixing process as compressive sampling.\nThen we can write the mixing equation as the application\nof a linear operator $\\Phi$:\n\n\\begin{align}\\bb = \\Phi (\\by).\\end{align}\n\nBeware that this linear operator processes the input\n$\\by$ row by row to generate the output $\\bb$.\nFortunately, the CR-Sparse linear operator architecture allows\nus to process input data along any axis of choice. By default\nall linear operators process data column by column, which\nis akin to a matrix pre-multiplication. However, in this\nproblem, we will use a simple $2 \\times 2$ matrix\npost-multiplication as our linear operator for representing\nthe sensing process. \n\nAn alternative design (as used in SPARCO) would have been\nto flatten $\\by$ to a vector of length $2 m$\nand then use a $2 m \\times 2 m$ sensing matrix $\\Phi$\n(obtained by computing the Kronecker product of $\\bM$\nwith an identity matrix $\\bI_m$) to construct a flattened\nversion of $\\bb$. Our post-multiplication version of\nlinear operator is a more efficient implementation.\n\n\n### The Sparsifying Basis\n\nTo create a suitable sparsifying basis for this signal,\nwe will first consider a forward transform as defined below:\n\n#. Split the signal into overlapping windows of length $w$ \n   samples each.\n#. Let the overlap between windows be of $l = w/2$\n   samples (50%) overlap.\n#. For the last partial window, pad it with zeros as needed.\n#. Compute the DCT transform of each window.\n#. Concatenate the transforms together to form a representation\n   of the signal.\n\nLet there be $b$ such\noverlapping windows over a signal of length $m$. Then\nthe shape of this forward transform operator is $w b \\times m$.\n\nWe define the adjoint (transpose) of the above forward transform as\nthe Windowed Discrete Cosine Basis for our music sounds. We denote\nthis basis by $\\Psi$. The representation equation is given by\n\n\\begin{align}\\by = \\Psi (\\bx).\\end{align}\n\nHere $\\bx$ is an $w b \\times 2$ representation matrix\nwhere each column is a representation of each column in $\\by$.\nIn other words, the first column of $\\bx$ is a $wb$ length\nrepresentation of the guitar signal and the second column is the\nrepresentation of the piano signal. This is an overcomplete\nbasis (processing input data column by column). Note that by design,\neach column of $\\Psi$ is unit length.\n\nCR-Sparse includes an operator called ``windowed_op`` which can\ntransform any linear operator $T$ into a windowed operator\nas per description above. Starting from the ``cosine_basis``\noperator, we construct our sparsifying basis $\\Psi$\nusing ``windowed_op``. In particular we will be using\n512 length windows with overlaps of 256 samples.\nThe details of the construction of the sensing operator\nand the sparsifying basis can be seen in the ``prob401.py``\nfile in the source code.\n\n### The Sparse Recovery Problem\n\nWe now combine the operators $\\Phi$ and $\\Psi$\nto construct the operator $\\bA = \\Phi \\Psi$ and form\nthe linear equation:\n\n\\begin{align}\\bb = \\bA (\\bx).\\end{align}\n\nWe can now use a suitable sparse recovery algorithm to\nrecover $\\bx$ from $\\bb$. We shall do\nthat using SPGL1 (Spectral Gradient Descent for L1)\nin this example.\n\nSee also:\n\n* `api:problems`\n* `api:lop`\n"
      ]
    },
    {
      "cell_type": "code",
      "execution_count": null,
      "metadata": {
        "collapsed": false
      },
      "outputs": [],
      "source": [
        "# Configure JAX to work with 64-bit floating point precision. \nfrom jax.config import config\nconfig.update(\"jax_enable_x64\", True)\n\nimport jax.numpy as jnp\nimport cr.nimble as crn\nimport cr.sparse.plots as crplot"
      ]
    },
    {
      "cell_type": "markdown",
      "metadata": {},
      "source": [
        "## Setup\nWe shall construct our test signal and dictionary\nusing our test problems module.\n\n"
      ]
    },
    {
      "cell_type": "code",
      "execution_count": null,
      "metadata": {
        "collapsed": false
      },
      "outputs": [],
      "source": [
        "from cr.sparse import problems\nprob = problems.generate('src-sep-1')\nfig, ax = problems.plot(prob)"
      ]
    },
    {
      "cell_type": "markdown",
      "metadata": {},
      "source": [
        "Let us access the relevant parts of our test problem\n\n"
      ]
    },
    {
      "cell_type": "code",
      "execution_count": null,
      "metadata": {
        "collapsed": false
      },
      "outputs": [],
      "source": [
        "# The sparsifying basis linear operator\nPsi = prob.Psi\n# The combined operator for the linear equation :math:`\\bb = \\bA \\bx`\nA = prob.A\n# Mixture signals\nb0 = prob.b\n# Original signals\ny0 = prob.y\n# The sparse representation of the signal in the dictionary\nx0 = prob.x"
      ]
    },
    {
      "cell_type": "markdown",
      "metadata": {},
      "source": [
        "## Sparse Reconstruction using SPGL1\n\n"
      ]
    },
    {
      "cell_type": "markdown",
      "metadata": {},
      "source": [
        "The shape of mixed signal \n\n"
      ]
    },
    {
      "cell_type": "code",
      "execution_count": null,
      "metadata": {
        "collapsed": false
      },
      "outputs": [],
      "source": [
        "bm, nc = b0.shape\n# The shape of sparsifying basis\ntm, tn = prob.Psi.shape\nprint(bm, nc, tm, tn)\n# Prepare an initial (zero) estimate of the model\nx_init = jnp.zeros((tn, nc))"
      ]
    },
    {
      "cell_type": "markdown",
      "metadata": {},
      "source": [
        "Run SPGL1 algorithm\n\n"
      ]
    },
    {
      "cell_type": "code",
      "execution_count": null,
      "metadata": {
        "collapsed": false
      },
      "outputs": [],
      "source": [
        "import cr.sparse.cvx.spgl1 as crspgl1\nsigma=0.\noptions = crspgl1.SPGL1Options(max_iters=300)\nsol = crspgl1.solve_bpic_from_jit(A, b0, sigma, \n    x_init, options=options)\nproblems.analyze_solution(prob, sol)"
      ]
    },
    {
      "cell_type": "markdown",
      "metadata": {},
      "source": [
        "The estimated sparse representation\n\n"
      ]
    },
    {
      "cell_type": "code",
      "execution_count": null,
      "metadata": {
        "collapsed": false
      },
      "outputs": [],
      "source": [
        "x = sol.x"
      ]
    },
    {
      "cell_type": "markdown",
      "metadata": {},
      "source": [
        "Let us reconstruct the signal from this sparse representation\n\n"
      ]
    },
    {
      "cell_type": "code",
      "execution_count": null,
      "metadata": {
        "collapsed": false
      },
      "outputs": [],
      "source": [
        "y = prob.reconstruct(x)\n\n\nax = crplot.h_plots(4)\nax[0].plot(y0[:, 0])\nax[0].set_title(\"Original audio 1 (Guitar)\")\nax[1].plot(y[:, 0])\nax[1].set_title(\"Reconstructed audio 1 (Guitar)\")\nax[2].plot(y0[:, 1])\nax[2].set_title(\"Original audio 2 (Piano)\")\nax[3].plot(y[:, 1])\nax[3].set_title(\"Reconstructed audio 2 (Piano)\")"
      ]
    }
  ],
  "metadata": {
    "kernelspec": {
      "display_name": "Python 3",
      "language": "python",
      "name": "python3"
    },
    "language_info": {
      "codemirror_mode": {
        "name": "ipython",
        "version": 3
      },
      "file_extension": ".py",
      "mimetype": "text/x-python",
      "name": "python",
      "nbconvert_exporter": "python",
      "pygments_lexer": "ipython3",
      "version": "3.8.13"
    }
  },
  "nbformat": 4,
  "nbformat_minor": 0
}