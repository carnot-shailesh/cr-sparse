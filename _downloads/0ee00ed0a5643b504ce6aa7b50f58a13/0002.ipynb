{
  "cells": [
    {
      "cell_type": "markdown",
      "metadata": {},
      "source": [
        "\n\n# Blocks Signal in Haar Basis\n    :depth: 2\n    :local:\n\nA Blocks signal as proposed by Donoho et al.\nin Wavelab :cite:`buckheit1995wavelab` is\na concatenation of blocks with different heights.\nIt has a sparse representation in a Haar basis.\n\nIn this test problem with the structure\n$\\bb = \\bA \\bx$, the signal\n$\\bb$ is the blocks signal\n(of length 1024), $\\bA$\nis a Haar basis with\n5 levels of decomposition and $\\bx$\nis the sparse representation of the signal\nin this basis.\nThis basis is real, complete and orthonormal.\nHence, a simple solution for getting\n$\\bx$ from $\\bb$ is the formula:\n\n\\begin{align}\\bx = \\bA^T \\bb.\\end{align}\n\nThis test problem is useful in identifying\nbasic mistakes in a sparse recovery algorithm.\nThis problem should be very easy to solve by\nany sparse recovery algorithm. However, there\nis a caveat. If a sparse recovery algorithm\ndepends on the expected sparsity of the\nsignal (typically a parameter K in greedy algorithms),\nthe reconstruction would fail if K is specified below\nthe actual number of significant components of $\\bx$.\n\nSee also:\n\n* `api:problems`\n* `api:lop`\n"
      ]
    },
    {
      "cell_type": "code",
      "execution_count": null,
      "metadata": {
        "collapsed": false
      },
      "outputs": [],
      "source": [
        "# Configure JAX to work with 64-bit floating point precision. \nfrom jax.config import config\nconfig.update(\"jax_enable_x64\", True)\n\nimport jax.numpy as jnp\nimport cr.nimble as crn\nimport cr.sparse as crs\nimport cr.sparse.plots as crplot"
      ]
    },
    {
      "cell_type": "markdown",
      "metadata": {},
      "source": [
        "## Setup\nWe shall construct our test signal and dictionary\nusing our test problems module.\n\n"
      ]
    },
    {
      "cell_type": "code",
      "execution_count": null,
      "metadata": {
        "collapsed": false
      },
      "outputs": [],
      "source": [
        "from cr.sparse import problems\nprob = problems.generate('blocks:haar')\nfig, ax = problems.plot(prob)"
      ]
    },
    {
      "cell_type": "markdown",
      "metadata": {},
      "source": [
        "Let us access the relevant parts of our test problem\n\n"
      ]
    },
    {
      "cell_type": "code",
      "execution_count": null,
      "metadata": {
        "collapsed": false
      },
      "outputs": [],
      "source": [
        "# The sparsifying basis linear operator\nA = prob.A\n# The Blocks signal\nb0 = prob.b\n# The sparse representation of the Blocks signal in the dictionary\nx0 = prob.x"
      ]
    },
    {
      "cell_type": "markdown",
      "metadata": {},
      "source": [
        "Check how many coefficients in the sparse representation\nare sufficient to capture 99.9% of the energy of the signal\n\n"
      ]
    },
    {
      "cell_type": "code",
      "execution_count": null,
      "metadata": {
        "collapsed": false
      },
      "outputs": [],
      "source": [
        "print(crn.num_largest_coeffs_for_energy_percent(x0, 99.9))"
      ]
    },
    {
      "cell_type": "markdown",
      "metadata": {},
      "source": [
        "This number gives us an idea about the required sparsity\nto be configured for greedy pursuit algorithms.\n\n"
      ]
    },
    {
      "cell_type": "markdown",
      "metadata": {},
      "source": [
        "## Sparse Recovery using Subspace Pursuit\nWe shall use subspace pursuit to reconstruct the signal.\n\n"
      ]
    },
    {
      "cell_type": "code",
      "execution_count": null,
      "metadata": {
        "collapsed": false
      },
      "outputs": [],
      "source": [
        "import cr.sparse.pursuit.sp as sp\n# We will try to estimate a 100-sparse representation\nsol = sp.solve(A, b0, 100)"
      ]
    },
    {
      "cell_type": "markdown",
      "metadata": {},
      "source": [
        "This utility function helps us quickly analyze the quality of reconstruction\n\n"
      ]
    },
    {
      "cell_type": "code",
      "execution_count": null,
      "metadata": {
        "collapsed": false
      },
      "outputs": [],
      "source": [
        "problems.analyze_solution(prob, sol)"
      ]
    },
    {
      "cell_type": "markdown",
      "metadata": {},
      "source": [
        "The estimated sparse representation\n\n"
      ]
    },
    {
      "cell_type": "code",
      "execution_count": null,
      "metadata": {
        "collapsed": false
      },
      "outputs": [],
      "source": [
        "x = sol.x"
      ]
    },
    {
      "cell_type": "markdown",
      "metadata": {},
      "source": [
        "Let us reconstruct the signal from this sparse representation\n\n"
      ]
    },
    {
      "cell_type": "code",
      "execution_count": null,
      "metadata": {
        "collapsed": false
      },
      "outputs": [],
      "source": [
        "b = prob.reconstruct(x)"
      ]
    },
    {
      "cell_type": "markdown",
      "metadata": {},
      "source": [
        "Let us visualize the original and reconstructed representation\n\n"
      ]
    },
    {
      "cell_type": "code",
      "execution_count": null,
      "metadata": {
        "collapsed": false
      },
      "outputs": [],
      "source": [
        "ax = crplot.h_plots(2)\nax[0].stem(x0, markerfmt='.')\nax[1].stem(x, markerfmt='.')"
      ]
    },
    {
      "cell_type": "markdown",
      "metadata": {},
      "source": [
        "Let us visualize the original and reconstructed signal\n\n"
      ]
    },
    {
      "cell_type": "code",
      "execution_count": null,
      "metadata": {
        "collapsed": false
      },
      "outputs": [],
      "source": [
        "ax = crplot.h_plots(2)\nax[0].plot(b0)\nax[1].plot(b)"
      ]
    },
    {
      "cell_type": "markdown",
      "metadata": {},
      "source": [
        "## Sparse Recovery using Compressive Sampling Matching Pursuit\nWe shall now use compressive sampling matching pursuit to reconstruct the signal.\n\n"
      ]
    },
    {
      "cell_type": "code",
      "execution_count": null,
      "metadata": {
        "collapsed": false
      },
      "outputs": [],
      "source": [
        "import cr.sparse.pursuit.cosamp as cosamp\n# We will try to estimate a 100-sparse representation\nsol = cosamp.solve(A, b0, 100)\nproblems.analyze_solution(prob, sol)"
      ]
    },
    {
      "cell_type": "markdown",
      "metadata": {},
      "source": [
        "The estimated sparse representation\n\n"
      ]
    },
    {
      "cell_type": "code",
      "execution_count": null,
      "metadata": {
        "collapsed": false
      },
      "outputs": [],
      "source": [
        "x = sol.x"
      ]
    },
    {
      "cell_type": "markdown",
      "metadata": {},
      "source": [
        "Let us reconstruct the signal from this sparse representation\n\n"
      ]
    },
    {
      "cell_type": "code",
      "execution_count": null,
      "metadata": {
        "collapsed": false
      },
      "outputs": [],
      "source": [
        "b = prob.reconstruct(x)"
      ]
    },
    {
      "cell_type": "markdown",
      "metadata": {},
      "source": [
        "Let us visualize the original and reconstructed representation\n\n"
      ]
    },
    {
      "cell_type": "code",
      "execution_count": null,
      "metadata": {
        "collapsed": false
      },
      "outputs": [],
      "source": [
        "ax = crplot.h_plots(2)\nax[0].stem(x0, markerfmt='.')\nax[1].stem(x, markerfmt='.')"
      ]
    },
    {
      "cell_type": "markdown",
      "metadata": {},
      "source": [
        "Let us visualize the original and reconstructed signal\n\n"
      ]
    },
    {
      "cell_type": "code",
      "execution_count": null,
      "metadata": {
        "collapsed": false
      },
      "outputs": [],
      "source": [
        "ax = crplot.h_plots(2)\nax[0].plot(b0)\nax[1].plot(b)"
      ]
    },
    {
      "cell_type": "markdown",
      "metadata": {},
      "source": [
        "## Sparse Recovery using SPGL1\n\n"
      ]
    },
    {
      "cell_type": "code",
      "execution_count": null,
      "metadata": {
        "collapsed": false
      },
      "outputs": [],
      "source": [
        "import cr.sparse.cvx.spgl1 as crspgl1\noptions = crspgl1.SPGL1Options()\ntracker = crs.ProgressTracker(x0=x0)\nsol = crspgl1.solve_bp_jit(A, b0, options=options, tracker=tracker)"
      ]
    },
    {
      "cell_type": "markdown",
      "metadata": {},
      "source": [
        "Let's analyze the solution quality\n\n"
      ]
    },
    {
      "cell_type": "code",
      "execution_count": null,
      "metadata": {
        "collapsed": false
      },
      "outputs": [],
      "source": [
        "problems.analyze_solution(prob, sol)"
      ]
    },
    {
      "cell_type": "markdown",
      "metadata": {},
      "source": [
        "Let's plot the progress of SPGL1 over different iterations\n\n"
      ]
    },
    {
      "cell_type": "code",
      "execution_count": null,
      "metadata": {
        "collapsed": false
      },
      "outputs": [],
      "source": [
        "ax = crplot.one_plot(height=6)\ntracker.plot_progress(ax)"
      ]
    },
    {
      "cell_type": "markdown",
      "metadata": {},
      "source": [
        "The estimated sparse representation\n\n"
      ]
    },
    {
      "cell_type": "code",
      "execution_count": null,
      "metadata": {
        "collapsed": false
      },
      "outputs": [],
      "source": [
        "x = sol.x"
      ]
    },
    {
      "cell_type": "markdown",
      "metadata": {},
      "source": [
        "Let us reconstruct the signal from this sparse representation\n\n"
      ]
    },
    {
      "cell_type": "code",
      "execution_count": null,
      "metadata": {
        "collapsed": false
      },
      "outputs": [],
      "source": [
        "b = prob.reconstruct(x)"
      ]
    },
    {
      "cell_type": "markdown",
      "metadata": {},
      "source": [
        "Let us visualize the original and reconstructed representation\n\n"
      ]
    },
    {
      "cell_type": "code",
      "execution_count": null,
      "metadata": {
        "collapsed": false
      },
      "outputs": [],
      "source": [
        "ax = crplot.h_plots(2)\nax[0].stem(x0, markerfmt='.')\nax[1].stem(x, markerfmt='.')"
      ]
    },
    {
      "cell_type": "markdown",
      "metadata": {},
      "source": [
        "Let us visualize the original and reconstructed signal\n\n"
      ]
    },
    {
      "cell_type": "code",
      "execution_count": null,
      "metadata": {
        "collapsed": false
      },
      "outputs": [],
      "source": [
        "ax = crplot.h_plots(2)\nax[0].plot(b0)\nax[1].plot(b)"
      ]
    },
    {
      "cell_type": "markdown",
      "metadata": {},
      "source": [
        "## Comments\nWe note that SP converges in a single iteration,\nCoSaMP takes two iterations, \nwhile SPGL1 takes 9 iterations to converge.\n"
      ]
    }
  ],
  "metadata": {
    "kernelspec": {
      "display_name": "Python 3",
      "language": "python",
      "name": "python3"
    },
    "language_info": {
      "codemirror_mode": {
        "name": "ipython",
        "version": 3
      },
      "file_extension": ".py",
      "mimetype": "text/x-python",
      "name": "python",
      "nbconvert_exporter": "python",
      "pygments_lexer": "ipython3",
      "version": "3.8.18"
    }
  },
  "nbformat": 4,
  "nbformat_minor": 0
}