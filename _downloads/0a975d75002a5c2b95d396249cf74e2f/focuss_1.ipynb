{
  "cells": [
    {
      "cell_type": "code",
      "execution_count": null,
      "metadata": {
        "collapsed": false
      },
      "outputs": [],
      "source": [
        "%matplotlib inline"
      ]
    },
    {
      "cell_type": "markdown",
      "metadata": {},
      "source": [
        "\n\n# FOcal Underdetermined System Solver (FOCUSS)\n    :depth: 2\n    :local:\n\nThis is a simple example of using\nthe FOcal Underdetermined System Solver (FOCUSS).\n\nWe can use the algorithm to solve a sparse recovery\nproblem from compressive measurements.\n"
      ]
    },
    {
      "cell_type": "code",
      "execution_count": null,
      "metadata": {
        "collapsed": false
      },
      "outputs": [],
      "source": [
        "# Configure JAX for 64-bit computing\nfrom jax.config import config\nconfig.update(\"jax_enable_x64\", True)"
      ]
    },
    {
      "cell_type": "markdown",
      "metadata": {},
      "source": [
        "Let's import necessary libraries \n\n"
      ]
    },
    {
      "cell_type": "code",
      "execution_count": null,
      "metadata": {
        "collapsed": false
      },
      "outputs": [],
      "source": [
        "import jax\nimport jax.numpy as jnp\nimport cr.nimble as crn\nimport cr.sparse as crs\nimport cr.sparse.pursuit.mp as mp\nimport cr.sparse.data as crdata\nimport cr.sparse.dict as crdict\nimport cr.sparse.plots as crplot\nimport cr.sparse.cvx.focuss as focuss"
      ]
    },
    {
      "cell_type": "markdown",
      "metadata": {},
      "source": [
        "## Problem setup\n\n"
      ]
    },
    {
      "cell_type": "code",
      "execution_count": null,
      "metadata": {
        "collapsed": false
      },
      "outputs": [],
      "source": [
        "# Number of compressive measurements\nm = 50\n# Ambient dimension\nn = 100\n# Number of non-zero entries in the sparse model\nk = 16"
      ]
    },
    {
      "cell_type": "markdown",
      "metadata": {},
      "source": [
        "Gaussian sensing matrix\n\n"
      ]
    },
    {
      "cell_type": "code",
      "execution_count": null,
      "metadata": {
        "collapsed": false
      },
      "outputs": [],
      "source": [
        "Phi = crdict.gaussian_mtx(crn.KEYS[0], m, n)"
      ]
    },
    {
      "cell_type": "markdown",
      "metadata": {},
      "source": [
        "Spikes as sample data\n\n"
      ]
    },
    {
      "cell_type": "code",
      "execution_count": null,
      "metadata": {
        "collapsed": false
      },
      "outputs": [],
      "source": [
        "x0, omega = crdata.sparse_spikes(crn.KEYS[1], n, k)"
      ]
    },
    {
      "cell_type": "markdown",
      "metadata": {},
      "source": [
        "Compressive sensing/measurements\n\n"
      ]
    },
    {
      "cell_type": "code",
      "execution_count": null,
      "metadata": {
        "collapsed": false
      },
      "outputs": [],
      "source": [
        "y = Phi @ x0"
      ]
    },
    {
      "cell_type": "markdown",
      "metadata": {},
      "source": [
        "## FOCUSS with p=1 \n\n"
      ]
    },
    {
      "cell_type": "code",
      "execution_count": null,
      "metadata": {
        "collapsed": false
      },
      "outputs": [],
      "source": [
        "p = 1.\niters = 6"
      ]
    },
    {
      "cell_type": "markdown",
      "metadata": {},
      "source": [
        "FOCUSS step by step \n\n"
      ]
    },
    {
      "cell_type": "code",
      "execution_count": null,
      "metadata": {
        "collapsed": false
      },
      "outputs": [],
      "source": [
        "ax = crplot.h_plots(iters+2, height=1)\nax[0].stem(x0, markerfmt='.')\n# Initial guess for solution\nx = jnp.ones(n)\nax[1].stem(x, markerfmt='.')\nfor i in range(iters):\n    # Update solution [one step]\n    x = focuss.step_noiseless(Phi, y, x, p=p)\n    # Plot the updated solution\n    ax[i+2].stem(x, markerfmt='.')"
      ]
    },
    {
      "cell_type": "markdown",
      "metadata": {},
      "source": [
        "FOCUSS method full \n\n"
      ]
    },
    {
      "cell_type": "code",
      "execution_count": null,
      "metadata": {
        "collapsed": false
      },
      "outputs": [],
      "source": [
        "sol = focuss.matrix_solve_noiseless(Phi, y, p=p, max_iters=10)\nprint(sol)\n# solution vector\nx_hat = sol.x"
      ]
    },
    {
      "cell_type": "markdown",
      "metadata": {},
      "source": [
        "Metrics \n\n"
      ]
    },
    {
      "cell_type": "code",
      "execution_count": null,
      "metadata": {
        "collapsed": false
      },
      "outputs": [],
      "source": [
        "snr = crn.signal_noise_ratio(x, x_hat)\nprd = crn.percent_rms_diff(x, x_hat)\nn_rmse = crn.normalized_root_mse(x, x_hat)\nprint(f'SNR: {snr:.2f} dB, PRD: {prd:.2f} %, N-RMSE: {n_rmse:.2e}')"
      ]
    },
    {
      "cell_type": "markdown",
      "metadata": {},
      "source": [
        "Plot the solution \n\n"
      ]
    },
    {
      "cell_type": "code",
      "execution_count": null,
      "metadata": {
        "collapsed": false
      },
      "outputs": [],
      "source": [
        "ax = crplot.h_plots(2, height=2)\nax[0].stem(x0, markerfmt='.')\nax[1].stem(x_hat, markerfmt='.')"
      ]
    },
    {
      "cell_type": "markdown",
      "metadata": {},
      "source": [
        "## FOCUSS with p=0.5\n\n"
      ]
    },
    {
      "cell_type": "code",
      "execution_count": null,
      "metadata": {
        "collapsed": false
      },
      "outputs": [],
      "source": [
        "p = 0.5\niters = 9"
      ]
    },
    {
      "cell_type": "markdown",
      "metadata": {},
      "source": [
        "FOCUSS step by step \n\n"
      ]
    },
    {
      "cell_type": "code",
      "execution_count": null,
      "metadata": {
        "collapsed": false
      },
      "outputs": [],
      "source": [
        "ax = crplot.h_plots(iters+2, height=1)\nax[0].stem(x0, markerfmt='.')\n# Initial guess for solution\nx = jnp.ones(n)\nax[1].stem(x, markerfmt='.')\nfor i in range(iters):\n    x = focuss.step_noiseless(Phi, y, x, p=p)\n    ax[i+2].stem(x, markerfmt='.')"
      ]
    },
    {
      "cell_type": "markdown",
      "metadata": {},
      "source": [
        "FOCUSS method full \n\n"
      ]
    },
    {
      "cell_type": "code",
      "execution_count": null,
      "metadata": {
        "collapsed": false
      },
      "outputs": [],
      "source": [
        "sol = focuss.matrix_solve_noiseless(Phi, y, p=p, max_iters=10)\nprint(sol)\n# solution vector\nx_hat = sol.x"
      ]
    },
    {
      "cell_type": "markdown",
      "metadata": {},
      "source": [
        "Metrics \n\n"
      ]
    },
    {
      "cell_type": "code",
      "execution_count": null,
      "metadata": {
        "collapsed": false
      },
      "outputs": [],
      "source": [
        "snr = crn.signal_noise_ratio(x, x_hat)\nprd = crn.percent_rms_diff(x, x_hat)\nn_rmse = crn.normalized_root_mse(x, x_hat)\nprint(f'SNR: {snr:.2f} dB, PRD: {prd:.2f} %, N-RMSE: {n_rmse:.2e}')"
      ]
    },
    {
      "cell_type": "markdown",
      "metadata": {},
      "source": [
        "Plot the solution \n\n"
      ]
    },
    {
      "cell_type": "code",
      "execution_count": null,
      "metadata": {
        "collapsed": false
      },
      "outputs": [],
      "source": [
        "ax = crplot.h_plots(2, height=2)\nax[0].stem(x0, markerfmt='.')\nax[1].stem(sol.x, markerfmt='.')"
      ]
    }
  ],
  "metadata": {
    "kernelspec": {
      "display_name": "Python 3",
      "language": "python",
      "name": "python3"
    },
    "language_info": {
      "codemirror_mode": {
        "name": "ipython",
        "version": 3
      },
      "file_extension": ".py",
      "mimetype": "text/x-python",
      "name": "python",
      "nbconvert_exporter": "python",
      "pygments_lexer": "ipython3",
      "version": "3.8.13"
    }
  },
  "nbformat": 4,
  "nbformat_minor": 0
}