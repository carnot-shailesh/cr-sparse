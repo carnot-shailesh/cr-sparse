{
  "cells": [
    {
      "cell_type": "code",
      "execution_count": null,
      "metadata": {
        "collapsed": false
      },
      "outputs": [],
      "source": [
        "%matplotlib inline"
      ]
    },
    {
      "cell_type": "markdown",
      "metadata": {},
      "source": [
        "\n# K-means Clustering\n\nCR-Sparse includes a K-means implementation as\npart of its sparse subspace clustering module.\n"
      ]
    },
    {
      "cell_type": "markdown",
      "metadata": {},
      "source": [
        "Configure JAX to work with 64-bit floating point precision. \n\n"
      ]
    },
    {
      "cell_type": "code",
      "execution_count": null,
      "metadata": {
        "collapsed": false
      },
      "outputs": [],
      "source": [
        "from jax.config import config\nconfig.update(\"jax_enable_x64\", True)"
      ]
    },
    {
      "cell_type": "markdown",
      "metadata": {},
      "source": [
        "Let's import necessary libraries \n\n"
      ]
    },
    {
      "cell_type": "code",
      "execution_count": null,
      "metadata": {
        "collapsed": false
      },
      "outputs": [],
      "source": [
        "from jax import random\nimport jax.numpy as jnp\nimport cr.sparse as crs\n# vector quantization\nimport cr.sparse.cluster.vq as vq\n# Plotting\nimport matplotlib.pyplot as plt\n# Some PRNGKeys for later use\nkey = random.PRNGKey(0)\nkeys = random.split(key, 10)"
      ]
    },
    {
      "cell_type": "markdown",
      "metadata": {},
      "source": [
        "Prepare sample data\n\n"
      ]
    },
    {
      "cell_type": "code",
      "execution_count": null,
      "metadata": {
        "collapsed": false
      },
      "outputs": [],
      "source": [
        "# Number of points for each cluster\npts = 50\n# Mean vector for first cluster\nmu_a = jnp.array([0, 0])\n# Covariance matrix for first cluster\ncov_a = jnp.array([[4, 1], [1, 4]])\n# Sampled points for the first cluster\na = random.multivariate_normal(keys[0], mu_a, cov_a, shape=(pts,))\n# Mean vector for second cluster\nmu_b = jnp.array([30, 10])\n# Covariance matrix for second cluster\ncov_b = jnp.array([[10, 2], [2, 1]])\n# Sampled points for the second cluster\nb = random.multivariate_normal(keys[1], mu_b, cov_b, shape=(pts,))\n# combined points\nfeatures = jnp.concatenate((a, b))\n# plot the points\nplt.scatter(features[:, 0], features[:, 1])"
      ]
    },
    {
      "cell_type": "markdown",
      "metadata": {},
      "source": [
        "## K-means clustering\n\n"
      ]
    },
    {
      "cell_type": "code",
      "execution_count": null,
      "metadata": {
        "collapsed": false
      },
      "outputs": [],
      "source": [
        "# number of clusters\nk=2\n# Perform K-means clustering\nresult = vq.kmeans_jit(keys[3], features, k)\ncentroids = result.centroids\nassignment = result.assignment\nfor i in range(k):\n    # points for the k-th cluster\n    cluster = features[assignment == i]\n    plt.plot(cluster[:,0], cluster[:,1], \"o\", alpha=0.4)\n# plot the centroids\nplt.scatter(centroids[:, 0], centroids[:, 1], c='r')"
      ]
    },
    {
      "cell_type": "markdown",
      "metadata": {},
      "source": [
        "Let's print the assignment to verify that points have\nindeed been assigned to respective clusters \n\n"
      ]
    },
    {
      "cell_type": "code",
      "execution_count": null,
      "metadata": {
        "collapsed": false
      },
      "outputs": [],
      "source": [
        "print(assignment)"
      ]
    },
    {
      "cell_type": "markdown",
      "metadata": {},
      "source": [
        "Let's print the number of points for each cluster\n\n"
      ]
    },
    {
      "cell_type": "code",
      "execution_count": null,
      "metadata": {
        "collapsed": false
      },
      "outputs": [],
      "source": [
        "print(vq.assignment_counts(assignment, k))"
      ]
    },
    {
      "cell_type": "markdown",
      "metadata": {},
      "source": [
        "Let's print the number of iterations taken to converge\n\n"
      ]
    },
    {
      "cell_type": "code",
      "execution_count": null,
      "metadata": {
        "collapsed": false
      },
      "outputs": [],
      "source": [
        "print(result.iterations)"
      ]
    },
    {
      "cell_type": "markdown",
      "metadata": {},
      "source": [
        "If we have points and centroids, we can compute the assignments\n\n"
      ]
    },
    {
      "cell_type": "code",
      "execution_count": null,
      "metadata": {
        "collapsed": false
      },
      "outputs": [],
      "source": [
        "assignment, distances = vq.find_assignment_jit(features, centroids)\nprint(assignment)"
      ]
    },
    {
      "cell_type": "markdown",
      "metadata": {},
      "source": [
        "For any new point, it is easy to find the index of nearest centroid\n\n"
      ]
    },
    {
      "cell_type": "code",
      "execution_count": null,
      "metadata": {
        "collapsed": false
      },
      "outputs": [],
      "source": [
        "pt = jnp.array([1, 4])\nidx = vq.find_nearest_jit(pt, centroids)\nprint(centroids[idx])"
      ]
    }
  ],
  "metadata": {
    "kernelspec": {
      "display_name": "Python 3",
      "language": "python",
      "name": "python3"
    },
    "language_info": {
      "codemirror_mode": {
        "name": "ipython",
        "version": 3
      },
      "file_extension": ".py",
      "mimetype": "text/x-python",
      "name": "python",
      "nbconvert_exporter": "python",
      "pygments_lexer": "ipython3",
      "version": "3.8.14"
    }
  },
  "nbformat": 4,
  "nbformat_minor": 0
}